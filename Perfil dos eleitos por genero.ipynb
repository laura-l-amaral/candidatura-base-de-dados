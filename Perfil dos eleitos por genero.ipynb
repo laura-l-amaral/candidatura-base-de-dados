{
 "cells": [
  {
   "cell_type": "code",
   "execution_count": 1,
   "metadata": {},
   "outputs": [],
   "source": [
    "import basedosdados as bd\n",
    "import pandas as pd\n",
    "import matplotlib.pyplot as plt\n",
    "import matplotlib.patches as mpatches\n",
    "import matplotlib.ticker as mtick"
   ]
  },
  {
   "cell_type": "markdown",
   "metadata": {
    "heading_collapsed": true
   },
   "source": [
    "# Download das Bases"
   ]
  },
  {
   "cell_type": "code",
   "execution_count": 2,
   "metadata": {
    "hidden": true
   },
   "outputs": [
    {
     "name": "stdout",
     "output_type": "stream",
     "text": [
      "\n",
      "project_id: \n",
      "\tbasedosdados \n",
      "dataset_id: \n",
      "\tbr_tse_eleicoes \n",
      "table_id: \n",
      "\tcandidatos \n",
      "num_rows: \n",
      "\t2858297 \n",
      "size_mb: \n",
      "\t0.0 \n",
      "-----------------------------------------------------------------------------------------------\n",
      "\n"
     ]
    }
   ],
   "source": [
    "bd.get_table_size(dataset_id='br_tse_eleicoes',\n",
    "                  table_id='candidatos',\n",
    "                  billing_project_id=\"rfid-250503\")"
   ]
  },
  {
   "cell_type": "code",
   "execution_count": 3,
   "metadata": {
    "hidden": true
   },
   "outputs": [
    {
     "name": "stdout",
     "output_type": "stream",
     "text": [
      "\n",
      "project_id: \n",
      "\tbasedosdados \n",
      "dataset_id: \n",
      "\tbr_tse_eleicoes \n",
      "table_id: \n",
      "\tresultados_candidato \n",
      "num_rows: \n",
      "\t2598426 \n",
      "size_mb: \n",
      "\t0.0 \n",
      "-----------------------------------------------------------------------------------------------\n",
      "\n"
     ]
    }
   ],
   "source": [
    "bd.get_table_size(dataset_id='br_tse_eleicoes',\n",
    "                  table_id='resultados_candidato',\n",
    "                  billing_project_id=\"rfid-250503\")"
   ]
  },
  {
   "cell_type": "code",
   "execution_count": 4,
   "metadata": {
    "hidden": true
   },
   "outputs": [
    {
     "name": "stderr",
     "output_type": "stream",
     "text": [
      "Downloading: 100%|███████████████████████████████████████████████████████████| 29088/29088 [00:17<00:00, 1649.80rows/s]\n"
     ]
    }
   ],
   "source": [
    "query = \"\"\"\n",
    "SELECT *\n",
    "FROM `basedosdados.br_tse_eleicoes.candidatos` \n",
    "WHERE ano = 2018\n",
    "\"\"\"\n",
    "df_candidatos = bd.read_sql(query, billing_project_id=\"rfid-250503\")"
   ]
  },
  {
   "cell_type": "code",
   "execution_count": 5,
   "metadata": {
    "hidden": true,
    "scrolled": true
   },
   "outputs": [
    {
     "name": "stderr",
     "output_type": "stream",
     "text": [
      "Downloading: 100%|███████████████████████████████████████████████████████████| 26462/26462 [00:04<00:00, 5508.51rows/s]\n"
     ]
    }
   ],
   "source": [
    "query = \"\"\"\n",
    "SELECT *\n",
    "FROM `basedosdados.br_tse_eleicoes.resultados_candidato` \n",
    "WHERE ano = 2018\n",
    "\"\"\"\n",
    "df_resultados = bd.read_sql(query, billing_project_id=\"rfid-250503\")"
   ]
  },
  {
   "cell_type": "markdown",
   "metadata": {},
   "source": [
    "# Limpeza dos dados"
   ]
  },
  {
   "cell_type": "markdown",
   "metadata": {
    "heading_collapsed": true
   },
   "source": [
    "## Base df_resultados"
   ]
  },
  {
   "cell_type": "code",
   "execution_count": 6,
   "metadata": {
    "hidden": true
   },
   "outputs": [
    {
     "data": {
      "text/html": [
       "<div>\n",
       "<style scoped>\n",
       "    .dataframe tbody tr th:only-of-type {\n",
       "        vertical-align: middle;\n",
       "    }\n",
       "\n",
       "    .dataframe tbody tr th {\n",
       "        vertical-align: top;\n",
       "    }\n",
       "\n",
       "    .dataframe thead th {\n",
       "        text-align: right;\n",
       "    }\n",
       "</style>\n",
       "<table border=\"1\" class=\"dataframe\">\n",
       "  <thead>\n",
       "    <tr style=\"text-align: right;\">\n",
       "      <th></th>\n",
       "      <th>ano</th>\n",
       "      <th>turno</th>\n",
       "      <th>tipo_eleicao</th>\n",
       "      <th>sigla_uf</th>\n",
       "      <th>id_municipio</th>\n",
       "      <th>id_municipio_tse</th>\n",
       "      <th>cargo</th>\n",
       "      <th>sigla_partido</th>\n",
       "      <th>numero_candidato</th>\n",
       "      <th>sequencial_candidato</th>\n",
       "      <th>id_candidato_bd</th>\n",
       "      <th>resultado</th>\n",
       "      <th>votos</th>\n",
       "    </tr>\n",
       "  </thead>\n",
       "  <tbody>\n",
       "    <tr>\n",
       "      <th>0</th>\n",
       "      <td>2018</td>\n",
       "      <td>1</td>\n",
       "      <td>eleicao ordinaria</td>\n",
       "      <td>None</td>\n",
       "      <td>None</td>\n",
       "      <td>None</td>\n",
       "      <td>presidente</td>\n",
       "      <td>DC</td>\n",
       "      <td>27</td>\n",
       "      <td>280000624085</td>\n",
       "      <td>None</td>\n",
       "      <td>nao eleito</td>\n",
       "      <td>41710</td>\n",
       "    </tr>\n",
       "    <tr>\n",
       "      <th>1</th>\n",
       "      <td>2018</td>\n",
       "      <td>1</td>\n",
       "      <td>eleicao ordinaria</td>\n",
       "      <td>None</td>\n",
       "      <td>None</td>\n",
       "      <td>None</td>\n",
       "      <td>presidente</td>\n",
       "      <td>MDB</td>\n",
       "      <td>15</td>\n",
       "      <td>280000622281</td>\n",
       "      <td>897799</td>\n",
       "      <td>nao eleito</td>\n",
       "      <td>1288950</td>\n",
       "    </tr>\n",
       "    <tr>\n",
       "      <th>2</th>\n",
       "      <td>2018</td>\n",
       "      <td>1</td>\n",
       "      <td>eleicao ordinaria</td>\n",
       "      <td>None</td>\n",
       "      <td>None</td>\n",
       "      <td>None</td>\n",
       "      <td>presidente</td>\n",
       "      <td>NOVO</td>\n",
       "      <td>30</td>\n",
       "      <td>280000607640</td>\n",
       "      <td>1494256</td>\n",
       "      <td>nao eleito</td>\n",
       "      <td>2679745</td>\n",
       "    </tr>\n",
       "    <tr>\n",
       "      <th>3</th>\n",
       "      <td>2018</td>\n",
       "      <td>1</td>\n",
       "      <td>eleicao ordinaria</td>\n",
       "      <td>None</td>\n",
       "      <td>None</td>\n",
       "      <td>None</td>\n",
       "      <td>presidente</td>\n",
       "      <td>PATRIOTA</td>\n",
       "      <td>51</td>\n",
       "      <td>280000602500</td>\n",
       "      <td>767512</td>\n",
       "      <td>nao eleito</td>\n",
       "      <td>1348323</td>\n",
       "    </tr>\n",
       "    <tr>\n",
       "      <th>4</th>\n",
       "      <td>2018</td>\n",
       "      <td>1</td>\n",
       "      <td>eleicao ordinaria</td>\n",
       "      <td>None</td>\n",
       "      <td>None</td>\n",
       "      <td>None</td>\n",
       "      <td>presidente</td>\n",
       "      <td>PDT</td>\n",
       "      <td>12</td>\n",
       "      <td>280000605589</td>\n",
       "      <td>616370</td>\n",
       "      <td>nao eleito</td>\n",
       "      <td>13344371</td>\n",
       "    </tr>\n",
       "    <tr>\n",
       "      <th>...</th>\n",
       "      <td>...</td>\n",
       "      <td>...</td>\n",
       "      <td>...</td>\n",
       "      <td>...</td>\n",
       "      <td>...</td>\n",
       "      <td>...</td>\n",
       "      <td>...</td>\n",
       "      <td>...</td>\n",
       "      <td>...</td>\n",
       "      <td>...</td>\n",
       "      <td>...</td>\n",
       "      <td>...</td>\n",
       "      <td>...</td>\n",
       "    </tr>\n",
       "    <tr>\n",
       "      <th>26457</th>\n",
       "      <td>2018</td>\n",
       "      <td>2</td>\n",
       "      <td>eleicao ordinaria</td>\n",
       "      <td>SC</td>\n",
       "      <td>None</td>\n",
       "      <td>None</td>\n",
       "      <td>governador</td>\n",
       "      <td>PSL</td>\n",
       "      <td>17</td>\n",
       "      <td>240000609724</td>\n",
       "      <td>1405354</td>\n",
       "      <td>eleito</td>\n",
       "      <td>2644179</td>\n",
       "    </tr>\n",
       "    <tr>\n",
       "      <th>26458</th>\n",
       "      <td>2018</td>\n",
       "      <td>2</td>\n",
       "      <td>eleicao ordinaria</td>\n",
       "      <td>SE</td>\n",
       "      <td>None</td>\n",
       "      <td>None</td>\n",
       "      <td>governador</td>\n",
       "      <td>PSB</td>\n",
       "      <td>40</td>\n",
       "      <td>260000614791</td>\n",
       "      <td>1604206</td>\n",
       "      <td>nao eleito</td>\n",
       "      <td>370161</td>\n",
       "    </tr>\n",
       "    <tr>\n",
       "      <th>26459</th>\n",
       "      <td>2018</td>\n",
       "      <td>2</td>\n",
       "      <td>eleicao ordinaria</td>\n",
       "      <td>SE</td>\n",
       "      <td>None</td>\n",
       "      <td>None</td>\n",
       "      <td>governador</td>\n",
       "      <td>PSD</td>\n",
       "      <td>55</td>\n",
       "      <td>260000623573</td>\n",
       "      <td>730970</td>\n",
       "      <td>eleito</td>\n",
       "      <td>679051</td>\n",
       "    </tr>\n",
       "    <tr>\n",
       "      <th>26460</th>\n",
       "      <td>2018</td>\n",
       "      <td>2</td>\n",
       "      <td>eleicao ordinaria</td>\n",
       "      <td>SP</td>\n",
       "      <td>None</td>\n",
       "      <td>None</td>\n",
       "      <td>governador</td>\n",
       "      <td>PSB</td>\n",
       "      <td>40</td>\n",
       "      <td>250000615141</td>\n",
       "      <td>328516</td>\n",
       "      <td>nao eleito</td>\n",
       "      <td>10248740</td>\n",
       "    </tr>\n",
       "    <tr>\n",
       "      <th>26461</th>\n",
       "      <td>2018</td>\n",
       "      <td>2</td>\n",
       "      <td>eleicao ordinaria</td>\n",
       "      <td>SP</td>\n",
       "      <td>None</td>\n",
       "      <td>None</td>\n",
       "      <td>governador</td>\n",
       "      <td>PSDB</td>\n",
       "      <td>45</td>\n",
       "      <td>250000612596</td>\n",
       "      <td>1744670</td>\n",
       "      <td>eleito</td>\n",
       "      <td>10990350</td>\n",
       "    </tr>\n",
       "  </tbody>\n",
       "</table>\n",
       "<p>26462 rows × 13 columns</p>\n",
       "</div>"
      ],
      "text/plain": [
       "        ano  turno       tipo_eleicao sigla_uf id_municipio id_municipio_tse  \\\n",
       "0      2018      1  eleicao ordinaria     None         None             None   \n",
       "1      2018      1  eleicao ordinaria     None         None             None   \n",
       "2      2018      1  eleicao ordinaria     None         None             None   \n",
       "3      2018      1  eleicao ordinaria     None         None             None   \n",
       "4      2018      1  eleicao ordinaria     None         None             None   \n",
       "...     ...    ...                ...      ...          ...              ...   \n",
       "26457  2018      2  eleicao ordinaria       SC         None             None   \n",
       "26458  2018      2  eleicao ordinaria       SE         None             None   \n",
       "26459  2018      2  eleicao ordinaria       SE         None             None   \n",
       "26460  2018      2  eleicao ordinaria       SP         None             None   \n",
       "26461  2018      2  eleicao ordinaria       SP         None             None   \n",
       "\n",
       "            cargo sigla_partido numero_candidato sequencial_candidato  \\\n",
       "0      presidente            DC               27         280000624085   \n",
       "1      presidente           MDB               15         280000622281   \n",
       "2      presidente          NOVO               30         280000607640   \n",
       "3      presidente      PATRIOTA               51         280000602500   \n",
       "4      presidente           PDT               12         280000605589   \n",
       "...           ...           ...              ...                  ...   \n",
       "26457  governador           PSL               17         240000609724   \n",
       "26458  governador           PSB               40         260000614791   \n",
       "26459  governador           PSD               55         260000623573   \n",
       "26460  governador           PSB               40         250000615141   \n",
       "26461  governador          PSDB               45         250000612596   \n",
       "\n",
       "      id_candidato_bd   resultado     votos  \n",
       "0                None  nao eleito     41710  \n",
       "1              897799  nao eleito   1288950  \n",
       "2             1494256  nao eleito   2679745  \n",
       "3              767512  nao eleito   1348323  \n",
       "4              616370  nao eleito  13344371  \n",
       "...               ...         ...       ...  \n",
       "26457         1405354      eleito   2644179  \n",
       "26458         1604206  nao eleito    370161  \n",
       "26459          730970      eleito    679051  \n",
       "26460          328516  nao eleito  10248740  \n",
       "26461         1744670      eleito  10990350  \n",
       "\n",
       "[26462 rows x 13 columns]"
      ]
     },
     "execution_count": 6,
     "metadata": {},
     "output_type": "execute_result"
    }
   ],
   "source": [
    "df_resultados"
   ]
  },
  {
   "cell_type": "markdown",
   "metadata": {
    "hidden": true
   },
   "source": [
    "Queremos apenas os candidatos que:\n",
    "    1. Concorreram para cargos legislativos\n",
    "    2. Foram eleitos\n",
    "\n",
    "    \n",
    "Vamos ver quais os os cargos que foram votados em 2018"
   ]
  },
  {
   "cell_type": "code",
   "execution_count": 7,
   "metadata": {
    "hidden": true
   },
   "outputs": [
    {
     "data": {
      "text/plain": [
       "array(['presidente', 'deputado estadual', 'deputado federal',\n",
       "       'governador', 'senador', 'deputado distrital'], dtype=object)"
      ]
     },
     "execution_count": 7,
     "metadata": {},
     "output_type": "execute_result"
    }
   ],
   "source": [
    "df_resultados.cargo.unique()"
   ]
  },
  {
   "cell_type": "code",
   "execution_count": 8,
   "metadata": {
    "hidden": true
   },
   "outputs": [],
   "source": [
    "cargos_legislativos = [\n",
    "    'deputado estadual', 'deputado federal', 'senador', 'deputado distrital'\n",
    "]"
   ]
  },
  {
   "cell_type": "markdown",
   "metadata": {
    "hidden": true
   },
   "source": [
    "Vamos selecionar os resultados que indicam que o candidato foi eleito"
   ]
  },
  {
   "cell_type": "code",
   "execution_count": 9,
   "metadata": {
    "hidden": true
   },
   "outputs": [
    {
     "data": {
      "text/plain": [
       "array(['nao eleito', '2º turno', 'suplente', 'eleito por qp',\n",
       "       'eleito por media', 'eleito'], dtype=object)"
      ]
     },
     "execution_count": 9,
     "metadata": {},
     "output_type": "execute_result"
    }
   ],
   "source": [
    "df_resultados.resultado.unique()"
   ]
  },
  {
   "cell_type": "code",
   "execution_count": 10,
   "metadata": {
    "hidden": true
   },
   "outputs": [],
   "source": [
    "categ_eleito = ['eleito', 'eleito por qp', 'eleito por media']"
   ]
  },
  {
   "cell_type": "markdown",
   "metadata": {
    "hidden": true
   },
   "source": [
    "Agora filtramos apenas os resultados que nos interessa"
   ]
  },
  {
   "cell_type": "code",
   "execution_count": 11,
   "metadata": {
    "hidden": true
   },
   "outputs": [],
   "source": [
    "eleitos = df_resultados.resultado.isin(categ_eleito)\n",
    "legislativos = df_resultados.cargo.isin(cargos_legislativos)"
   ]
  },
  {
   "cell_type": "code",
   "execution_count": 12,
   "metadata": {
    "hidden": true
   },
   "outputs": [],
   "source": [
    "df_eleitos_legis = df_resultados[eleitos&legislativos]"
   ]
  },
  {
   "cell_type": "markdown",
   "metadata": {
    "hidden": true
   },
   "source": [
    "Mantemos apenas as colunas que nos serão úteis"
   ]
  },
  {
   "cell_type": "code",
   "execution_count": 13,
   "metadata": {
    "hidden": true
   },
   "outputs": [
    {
     "data": {
      "text/plain": [
       "Index(['ano', 'turno', 'tipo_eleicao', 'sigla_uf', 'id_municipio',\n",
       "       'id_municipio_tse', 'cargo', 'sigla_partido', 'numero_candidato',\n",
       "       'sequencial_candidato', 'id_candidato_bd', 'resultado', 'votos'],\n",
       "      dtype='object')"
      ]
     },
     "execution_count": 13,
     "metadata": {},
     "output_type": "execute_result"
    }
   ],
   "source": [
    "df_eleitos_legis.columns"
   ]
  },
  {
   "cell_type": "code",
   "execution_count": 14,
   "metadata": {
    "hidden": true
   },
   "outputs": [],
   "source": [
    "colunas_selecionadas = ['tipo_eleicao','sigla_uf','cargo',\n",
    "                        'sigla_partido','id_candidato_bd',\n",
    "                        'resultado','votos','sequencial_candidato']"
   ]
  },
  {
   "cell_type": "code",
   "execution_count": 15,
   "metadata": {
    "hidden": true
   },
   "outputs": [],
   "source": [
    "df_eleitos_legis_col_sel = df_eleitos_legis[colunas_selecionadas]"
   ]
  },
  {
   "cell_type": "code",
   "execution_count": 16,
   "metadata": {
    "hidden": true
   },
   "outputs": [
    {
     "data": {
      "text/html": [
       "<div>\n",
       "<style scoped>\n",
       "    .dataframe tbody tr th:only-of-type {\n",
       "        vertical-align: middle;\n",
       "    }\n",
       "\n",
       "    .dataframe tbody tr th {\n",
       "        vertical-align: top;\n",
       "    }\n",
       "\n",
       "    .dataframe thead th {\n",
       "        text-align: right;\n",
       "    }\n",
       "</style>\n",
       "<table border=\"1\" class=\"dataframe\">\n",
       "  <thead>\n",
       "    <tr style=\"text-align: right;\">\n",
       "      <th></th>\n",
       "      <th>tipo_eleicao</th>\n",
       "      <th>sigla_uf</th>\n",
       "      <th>cargo</th>\n",
       "      <th>sigla_partido</th>\n",
       "      <th>id_candidato_bd</th>\n",
       "      <th>resultado</th>\n",
       "      <th>votos</th>\n",
       "      <th>sequencial_candidato</th>\n",
       "    </tr>\n",
       "  </thead>\n",
       "  <tbody>\n",
       "    <tr>\n",
       "      <th>52</th>\n",
       "      <td>eleicao ordinaria</td>\n",
       "      <td>AC</td>\n",
       "      <td>deputado estadual</td>\n",
       "      <td>DEM</td>\n",
       "      <td>479202</td>\n",
       "      <td>eleito por qp</td>\n",
       "      <td>5021</td>\n",
       "      <td>10000624305</td>\n",
       "    </tr>\n",
       "    <tr>\n",
       "      <th>64</th>\n",
       "      <td>eleicao ordinaria</td>\n",
       "      <td>AC</td>\n",
       "      <td>deputado estadual</td>\n",
       "      <td>MDB</td>\n",
       "      <td>1462277</td>\n",
       "      <td>eleito por qp</td>\n",
       "      <td>9405</td>\n",
       "      <td>10000610628</td>\n",
       "    </tr>\n",
       "    <tr>\n",
       "      <th>70</th>\n",
       "      <td>eleicao ordinaria</td>\n",
       "      <td>AC</td>\n",
       "      <td>deputado estadual</td>\n",
       "      <td>MDB</td>\n",
       "      <td>1276214</td>\n",
       "      <td>eleito por media</td>\n",
       "      <td>9139</td>\n",
       "      <td>10000610634</td>\n",
       "    </tr>\n",
       "    <tr>\n",
       "      <th>73</th>\n",
       "      <td>eleicao ordinaria</td>\n",
       "      <td>AC</td>\n",
       "      <td>deputado estadual</td>\n",
       "      <td>MDB</td>\n",
       "      <td>1347133</td>\n",
       "      <td>eleito por qp</td>\n",
       "      <td>10349</td>\n",
       "      <td>10000610637</td>\n",
       "    </tr>\n",
       "    <tr>\n",
       "      <th>78</th>\n",
       "      <td>eleicao ordinaria</td>\n",
       "      <td>AC</td>\n",
       "      <td>deputado estadual</td>\n",
       "      <td>PC do B</td>\n",
       "      <td>798934</td>\n",
       "      <td>eleito por qp</td>\n",
       "      <td>6662</td>\n",
       "      <td>10000608372</td>\n",
       "    </tr>\n",
       "    <tr>\n",
       "      <th>...</th>\n",
       "      <td>...</td>\n",
       "      <td>...</td>\n",
       "      <td>...</td>\n",
       "      <td>...</td>\n",
       "      <td>...</td>\n",
       "      <td>...</td>\n",
       "      <td>...</td>\n",
       "      <td>...</td>\n",
       "    </tr>\n",
       "    <tr>\n",
       "      <th>26402</th>\n",
       "      <td>eleicao ordinaria</td>\n",
       "      <td>TO</td>\n",
       "      <td>deputado federal</td>\n",
       "      <td>PT</td>\n",
       "      <td>625895</td>\n",
       "      <td>eleito por media</td>\n",
       "      <td>18167</td>\n",
       "      <td>270000626122</td>\n",
       "    </tr>\n",
       "    <tr>\n",
       "      <th>26416</th>\n",
       "      <td>eleicao ordinaria</td>\n",
       "      <td>TO</td>\n",
       "      <td>deputado federal</td>\n",
       "      <td>SOLIDARIEDADE</td>\n",
       "      <td>119394</td>\n",
       "      <td>eleito por qp</td>\n",
       "      <td>71842</td>\n",
       "      <td>270000618825</td>\n",
       "    </tr>\n",
       "    <tr>\n",
       "      <th>26417</th>\n",
       "      <td>eleicao ordinaria</td>\n",
       "      <td>TO</td>\n",
       "      <td>deputado federal</td>\n",
       "      <td>SOLIDARIEDADE</td>\n",
       "      <td>801809</td>\n",
       "      <td>eleito por qp</td>\n",
       "      <td>48812</td>\n",
       "      <td>270000618830</td>\n",
       "    </tr>\n",
       "    <tr>\n",
       "      <th>26424</th>\n",
       "      <td>eleicao ordinaria</td>\n",
       "      <td>TO</td>\n",
       "      <td>senador</td>\n",
       "      <td>PSD</td>\n",
       "      <td>1379625</td>\n",
       "      <td>eleito</td>\n",
       "      <td>214355</td>\n",
       "      <td>270000626087</td>\n",
       "    </tr>\n",
       "    <tr>\n",
       "      <th>26431</th>\n",
       "      <td>eleicao ordinaria</td>\n",
       "      <td>TO</td>\n",
       "      <td>senador</td>\n",
       "      <td>SOLIDARIEDADE</td>\n",
       "      <td>972537</td>\n",
       "      <td>eleito</td>\n",
       "      <td>248358</td>\n",
       "      <td>270000629454</td>\n",
       "    </tr>\n",
       "  </tbody>\n",
       "</table>\n",
       "<p>1624 rows × 8 columns</p>\n",
       "</div>"
      ],
      "text/plain": [
       "            tipo_eleicao sigla_uf              cargo  sigla_partido  \\\n",
       "52     eleicao ordinaria       AC  deputado estadual            DEM   \n",
       "64     eleicao ordinaria       AC  deputado estadual            MDB   \n",
       "70     eleicao ordinaria       AC  deputado estadual            MDB   \n",
       "73     eleicao ordinaria       AC  deputado estadual            MDB   \n",
       "78     eleicao ordinaria       AC  deputado estadual        PC do B   \n",
       "...                  ...      ...                ...            ...   \n",
       "26402  eleicao ordinaria       TO   deputado federal             PT   \n",
       "26416  eleicao ordinaria       TO   deputado federal  SOLIDARIEDADE   \n",
       "26417  eleicao ordinaria       TO   deputado federal  SOLIDARIEDADE   \n",
       "26424  eleicao ordinaria       TO            senador            PSD   \n",
       "26431  eleicao ordinaria       TO            senador  SOLIDARIEDADE   \n",
       "\n",
       "      id_candidato_bd         resultado   votos sequencial_candidato  \n",
       "52             479202     eleito por qp    5021          10000624305  \n",
       "64            1462277     eleito por qp    9405          10000610628  \n",
       "70            1276214  eleito por media    9139          10000610634  \n",
       "73            1347133     eleito por qp   10349          10000610637  \n",
       "78             798934     eleito por qp    6662          10000608372  \n",
       "...               ...               ...     ...                  ...  \n",
       "26402          625895  eleito por media   18167         270000626122  \n",
       "26416          119394     eleito por qp   71842         270000618825  \n",
       "26417          801809     eleito por qp   48812         270000618830  \n",
       "26424         1379625            eleito  214355         270000626087  \n",
       "26431          972537            eleito  248358         270000629454  \n",
       "\n",
       "[1624 rows x 8 columns]"
      ]
     },
     "execution_count": 16,
     "metadata": {},
     "output_type": "execute_result"
    }
   ],
   "source": [
    "df_eleitos_legis_col_sel"
   ]
  },
  {
   "cell_type": "markdown",
   "metadata": {
    "hidden": true
   },
   "source": [
    "Checamos se os dados estão coerentes com o que conhecemos das eleições"
   ]
  },
  {
   "cell_type": "code",
   "execution_count": 17,
   "metadata": {
    "hidden": true
   },
   "outputs": [
    {
     "data": {
      "text/plain": [
       "deputado estadual     1035\n",
       "deputado federal       513\n",
       "senador                 52\n",
       "deputado distrital      24\n",
       "Name: cargo, dtype: int64"
      ]
     },
     "execution_count": 17,
     "metadata": {},
     "output_type": "execute_result"
    }
   ],
   "source": [
    "df_eleitos_legis_col_sel.cargo.value_counts()"
   ]
  },
  {
   "cell_type": "markdown",
   "metadata": {
    "heading_collapsed": true
   },
   "source": [
    "## Base df_canditatos"
   ]
  },
  {
   "cell_type": "markdown",
   "metadata": {
    "hidden": true
   },
   "source": [
    "Primeiro, vamos conhecer as colunas que temos para selecionar as mais interessantes"
   ]
  },
  {
   "cell_type": "code",
   "execution_count": 18,
   "metadata": {
    "hidden": true
   },
   "outputs": [
    {
     "name": "stdout",
     "output_type": "stream",
     "text": [
      "ano                                                2018\n",
      "tipo_eleicao                          eleicao ordinaria\n",
      "sigla_uf                                             AP\n",
      "id_municipio                                       None\n",
      "id_municipio_tse                                   None\n",
      "id_candidato_bd                                  786272\n",
      "cpf                                         20892454253\n",
      "titulo_eleitoral                           000264872534\n",
      "sequencial                                  30000618166\n",
      "numero                                              212\n",
      "nome                           Marileide Da Silva Lopes\n",
      "nome_urna                               Marileide Lopes\n",
      "numero_partido                                       21\n",
      "sigla_partido                                       PCB\n",
      "cargo                                       1º suplente\n",
      "situacao                                       deferido\n",
      "ocupacao                                    comerciante\n",
      "data_nascimento                     1964-09-16 00:00:00\n",
      "idade                                              54.0\n",
      "genero                                         feminino\n",
      "instrucao                         ensino medio completo\n",
      "estado_civil                                solteiro(a)\n",
      "nacionalidade                                brasileira\n",
      "sigla_uf_nascimento                                  AP\n",
      "municipio_nascimento                             Macapá\n",
      "email                   marileidedasilvalopeso@gmailcom\n",
      "raca                                              preta\n",
      "Name: 0, dtype: object\n"
     ]
    }
   ],
   "source": [
    "print(df_candidatos.iloc[0])"
   ]
  },
  {
   "cell_type": "markdown",
   "metadata": {
    "hidden": true
   },
   "source": [
    "Queremos apenas os candidatos que foram deferidos"
   ]
  },
  {
   "cell_type": "code",
   "execution_count": 19,
   "metadata": {
    "hidden": true
   },
   "outputs": [],
   "source": [
    "df_candidatos_def = df_candidatos[df_candidatos['situacao']=='deferido']"
   ]
  },
  {
   "cell_type": "markdown",
   "metadata": {
    "hidden": true
   },
   "source": [
    "Selecionamos as colunas que nos interessam"
   ]
  },
  {
   "cell_type": "code",
   "execution_count": 20,
   "metadata": {
    "hidden": true
   },
   "outputs": [],
   "source": [
    "colsel_caract_candidatos = ['nome','nome_urna',\n",
    "                            'ocupacao','data_nascimento',\n",
    "                            'idade','genero','instrucao','estado_civil',\n",
    "                            'nacionalidade','sigla_uf_nascimento',\n",
    "                            'municipio_nascimento','raca','sequencial']"
   ]
  },
  {
   "cell_type": "code",
   "execution_count": 21,
   "metadata": {
    "hidden": true
   },
   "outputs": [],
   "source": [
    "df_candidatos_col_sel = df_candidatos_def[colsel_caract_candidatos]"
   ]
  },
  {
   "cell_type": "markdown",
   "metadata": {},
   "source": [
    "## Juntamos as 2 bases"
   ]
  },
  {
   "cell_type": "code",
   "execution_count": 22,
   "metadata": {},
   "outputs": [],
   "source": [
    "df_uni = pd.merge(left=df_eleitos_legis_col_sel,\n",
    "                  right=df_candidatos_col_sel,\n",
    "                  left_on='sequencial_candidato',\n",
    "                  right_on='sequencial',\n",
    "                  how=\"left\")"
   ]
  },
  {
   "cell_type": "code",
   "execution_count": 23,
   "metadata": {},
   "outputs": [],
   "source": [
    "df_uni_mul = df_uni[df_uni.genero=='feminino']\n",
    "df_uni_hom = df_uni[df_uni.genero=='masculino']"
   ]
  },
  {
   "cell_type": "markdown",
   "metadata": {},
   "source": [
    "# Desenvolvimento das visualizações"
   ]
  },
  {
   "cell_type": "markdown",
   "metadata": {},
   "source": [
    "## Números absolutos de eleitos"
   ]
  },
  {
   "cell_type": "code",
   "execution_count": 24,
   "metadata": {},
   "outputs": [
    {
     "data": {
      "image/png": "[encoded data removed]",
      "text/plain": [
       "<Figure size 576x144 with 1 Axes>"
      ]
     },
     "metadata": {
      "needs_background": "dark"
     },
     "output_type": "display_data"
    }
   ],
   "source": [
    "f, ax = plt.subplots(figsize=(8, 2))\n",
    "\n",
    "colors = ['grey', '#af78d4']\n",
    "\n",
    "#apaga os contornos da imagem\n",
    "ax.spines['top'].set_visible(False)\n",
    "ax.spines['right'].set_visible(False)\n",
    "ax.spines['bottom'].set_visible(False)\n",
    "ax.spines['left'].set_visible(False)\n",
    "\n",
    "#deixa os marcadores numa cor mais suave que o preto\n",
    "ax.tick_params(axis='y', colors='gray')\n",
    "ax.tick_params(axis='x', colors='gray')\n",
    "\n",
    "#GRÁFICO\n",
    "ax1 = plt.barh(y=['Homens', 'Mulheres'],\n",
    "               height=0.9,\n",
    "               width=df_uni['genero'].value_counts().values,\n",
    "               color=colors)\n",
    "\n",
    "#adiciona as labels dentro do gráfico\n",
    "rects = plt.barh(y=['Homens', 'Mulheres'],\n",
    "                 height=0.9,\n",
    "                 width=df_uni['genero'].value_counts().values,\n",
    "                 color=colors)\n",
    "labels = df_uni['genero'].value_counts().values\n",
    "\n",
    "for rect, label, color in zip(rects, labels, colors):\n",
    "    width = rect.get_width()\n",
    "    ax.text(width + 55,\n",
    "            rect.get_y() + (rect.get_height() / 3),\n",
    "            str(label),\n",
    "            ha=\"center\",\n",
    "            va=\"bottom\",\n",
    "            color=color,\n",
    "            size=12)\n",
    "\n",
    "plt.title('Número total de candidatos eleitos por gênero', fontsize=12)\n",
    "plt.xlabel('')\n",
    "plt.show()"
   ]
  },
  {
   "cell_type": "code",
   "execution_count": 25,
   "metadata": {},
   "outputs": [
    {
     "data": {
      "text/plain": [
       "0.17935578330893118"
      ]
     },
     "execution_count": 25,
     "metadata": {},
     "output_type": "execute_result"
    }
   ],
   "source": [
    "245/1366\n"
   ]
  },
  {
   "cell_type": "code",
   "execution_count": null,
   "metadata": {},
   "outputs": [],
   "source": []
  },
  {
   "cell_type": "code",
   "execution_count": 26,
   "metadata": {},
   "outputs": [
    {
     "data": {
      "text/plain": [
       "array([1366,  245], dtype=int64)"
      ]
     },
     "execution_count": 26,
     "metadata": {},
     "output_type": "execute_result"
    }
   ],
   "source": [
    "df_uni['genero'].value_counts().values"
   ]
  },
  {
   "cell_type": "markdown",
   "metadata": {
    "heading_collapsed": true
   },
   "source": [
    "## Raça"
   ]
  },
  {
   "cell_type": "code",
   "execution_count": 27,
   "metadata": {
    "hidden": true
   },
   "outputs": [],
   "source": [
    "Mul_raca = (df_uni_mul['raca'].value_counts())*100/df_uni_mul.shape[0]\n",
    "Hom_raca = (df_uni_hom['raca'].value_counts())*100/df_uni_hom.shape[0]"
   ]
  },
  {
   "cell_type": "code",
   "execution_count": 28,
   "metadata": {
    "hidden": true
   },
   "outputs": [
    {
     "data": {
      "text/plain": [
       "branca      73.061224\n",
       "parda       18.775510\n",
       "preta        7.755102\n",
       "indigena     0.408163\n",
       "Name: raca, dtype: float64"
      ]
     },
     "execution_count": 28,
     "metadata": {},
     "output_type": "execute_result"
    }
   ],
   "source": [
    "Mul_raca"
   ]
  },
  {
   "cell_type": "code",
   "execution_count": 29,
   "metadata": {
    "hidden": true
   },
   "outputs": [
    {
     "data": {
      "text/plain": [
       "branca     72.474378\n",
       "parda      24.084919\n",
       "preta       3.221083\n",
       "amarela     0.219619\n",
       "Name: raca, dtype: float64"
      ]
     },
     "execution_count": 29,
     "metadata": {},
     "output_type": "execute_result"
    }
   ],
   "source": [
    "Hom_raca"
   ]
  },
  {
   "cell_type": "code",
   "execution_count": 30,
   "metadata": {
    "hidden": true
   },
   "outputs": [
    {
     "data": {
      "image/png": "[encoded data removed]",
      "text/plain": [
       "<Figure size 432x144 with 1 Axes>"
      ]
     },
     "metadata": {
      "needs_background": "dark"
     },
     "output_type": "display_data"
    }
   ],
   "source": [
    "f, ax = plt.subplots(figsize=(6, 2))\n",
    "\n",
    "## AJUSTES DA IMAGEM\n",
    "\n",
    "#apaga os contornos da imagem\n",
    "ax.spines['top'].set_visible(False)\n",
    "ax.spines['right'].set_visible(False)\n",
    "ax.spines['bottom'].set_visible(False)\n",
    "ax.spines['left'].set_visible(False)\n",
    "\n",
    "#ajusta para que os números fiquem no formato percentual\n",
    "ax.xaxis.set_major_formatter(mtick.PercentFormatter(decimals=0))\n",
    "\n",
    "#deixa os marcadores numa cor mais suave que o preto\n",
    "ax.tick_params(axis='y', colors='gray')\n",
    "ax.tick_params(axis='x', colors='gray')\n",
    "\n",
    "#aumenta o tamanho da letra pra que fique mais visível\n",
    "ax.tick_params(axis='both', which='major', labelsize=12)\n",
    "ax.tick_params(axis='both', which='minor', labelsize=12)\n",
    "\n",
    "# coloca as linhas verticais auxiliares\n",
    "plt.vlines(20, ymin=-0.6, ymax=1.6, color='lightgray', alpha=0.6)\n",
    "plt.vlines(40, ymin=-0.6, ymax=1.6, color='lightgray', alpha=0.6)\n",
    "plt.vlines(60, ymin=-0.6, ymax=1.6, color='lightgray', alpha=0.6)\n",
    "plt.vlines(80, ymin=-0.6, ymax=1.6, color='lightgray', alpha=0.6)\n",
    "plt.xlabel('', )\n",
    "\n",
    "#vetor das cores que vamos usar\n",
    "colors = ['#46C2CE', '#81398A', '#283789', 'gold']\n",
    "\n",
    "#cria legenda\n",
    "brancos = mpatches.Patch(color=colors[0], label='branca')\n",
    "pardos = mpatches.Patch(color=colors[1], label='parda')\n",
    "pretos = mpatches.Patch(color=colors[2], label='preta')\n",
    "amarelos_vermelhos = mpatches.Patch(color=colors[3], label='demais')\n",
    "\n",
    "#ajusta parametros da legenda\n",
    "ax.legend(handles=[brancos, pardos, pretos, amarelos_vermelhos],\n",
    "          ncol=4,\n",
    "          bbox_to_anchor=(0.1, 1),\n",
    "          fontsize=8)\n",
    "\n",
    "##GRÁFICO\n",
    "\n",
    "p1 = plt.barh(y='Mulheres',\n",
    "              height=0.9,\n",
    "              width=Mul_raca.values[0],\n",
    "              color=colors[0])\n",
    "lefts = Mul_raca.values[0]\n",
    "\n",
    "p2 = plt.barh(y='Mulheres',\n",
    "              height=0.9,\n",
    "              width=Mul_raca.values[1],\n",
    "              color=colors[1],\n",
    "              left=lefts)\n",
    "\n",
    "lefts = lefts + Mul_raca.values[1]\n",
    "\n",
    "p3 = plt.barh(y='Mulheres',\n",
    "              height=0.9,\n",
    "              width=Mul_raca.values[2],\n",
    "              color=colors[2],\n",
    "              left=lefts)\n",
    "\n",
    "lefts = lefts + Mul_raca.values[2]\n",
    "\n",
    "p4 = plt.barh(y='Mulheres',\n",
    "              height=0.9,\n",
    "              width=Mul_raca.values[3],\n",
    "              color=colors[3],\n",
    "              left=lefts)\n",
    "\n",
    "lefts = lefts + Mul_raca.values[3]\n",
    "\n",
    "p1 = plt.barh(y='Homens',\n",
    "              height=0.9,\n",
    "              width=Hom_raca.values[0],\n",
    "              color=colors[0])\n",
    "lefts = Hom_raca.values[0]\n",
    "\n",
    "p2 = plt.barh(y='Homens',\n",
    "              height=0.9,\n",
    "              width=Hom_raca.values[1],\n",
    "              color=colors[1],\n",
    "              left=lefts)\n",
    "\n",
    "lefts = lefts + Hom_raca.values[1]\n",
    "\n",
    "p3 = plt.barh(y='Homens',\n",
    "              height=0.9,\n",
    "              width=Hom_raca.values[2],\n",
    "              color=colors[2],\n",
    "              left=lefts)\n",
    "\n",
    "lefts = lefts + Hom_raca.values[2]\n",
    "\n",
    "p4 = plt.barh(y='Homens',\n",
    "              height=0.9,\n",
    "              width=Hom_raca.values[3],\n",
    "              color=colors[3],\n",
    "              left=lefts)\n",
    "\n",
    "\n",
    "\n",
    "ax.tick_params(axis='both', which='major', labelsize=12)\n",
    "ax.tick_params(axis='both', which='minor', labelsize=12)\n",
    "\n",
    "plt.show()"
   ]
  },
  {
   "cell_type": "markdown",
   "metadata": {
    "heading_collapsed": true
   },
   "source": [
    "## Nível de Instrução"
   ]
  },
  {
   "cell_type": "code",
   "execution_count": 31,
   "metadata": {
    "hidden": true
   },
   "outputs": [],
   "source": [
    "Mul_instrucao = (\n",
    "    df_uni_mul['instrucao'].value_counts()) * 100 / df_uni_mul.shape[0]\n",
    "Hom_instrucao = (\n",
    "    df_uni_hom['instrucao'].value_counts()) * 100 / df_uni_hom.shape[0]"
   ]
  },
  {
   "cell_type": "code",
   "execution_count": 32,
   "metadata": {
    "hidden": true
   },
   "outputs": [],
   "source": [
    "def instrucao_agrup(instrucao):\n",
    "    if instrucao != 'ensino superior completo':\n",
    "        return 'Sem ensino superior completo'\n",
    "    else:\n",
    "        return 'Com ensino superior completo'"
   ]
  },
  {
   "cell_type": "code",
   "execution_count": 33,
   "metadata": {
    "hidden": true
   },
   "outputs": [],
   "source": [
    "Mul_instrucao = Mul_instrucao.groupby(instrucao_agrup).sum()\n",
    "Hom_instrucao = Hom_instrucao.groupby(instrucao_agrup).sum()"
   ]
  },
  {
   "cell_type": "code",
   "execution_count": null,
   "metadata": {
    "hidden": true
   },
   "outputs": [],
   "source": []
  },
  {
   "cell_type": "code",
   "execution_count": 34,
   "metadata": {
    "hidden": true
   },
   "outputs": [
    {
     "data": {
      "image/png": "[encoded data removed]",
      "text/plain": [
       "<Figure size 432x144 with 1 Axes>"
      ]
     },
     "metadata": {
      "needs_background": "dark"
     },
     "output_type": "display_data"
    }
   ],
   "source": [
    "f, ax = plt.subplots(figsize=(6, 2))\n",
    "\n",
    "## AJUSTES DA IMAGEM\n",
    "\n",
    "#apaga os contornos da imagem\n",
    "ax.spines['top'].set_visible(False)\n",
    "ax.spines['right'].set_visible(False)\n",
    "ax.spines['bottom'].set_visible(False)\n",
    "ax.spines['left'].set_visible(False)\n",
    "\n",
    "#ajusta para que os números fiquem no formato percentual\n",
    "ax.xaxis.set_major_formatter(mtick.PercentFormatter(decimals=0))\n",
    "\n",
    "#deixa os marcadores numa cor mais suave que o preto\n",
    "ax.tick_params(axis='y', colors='gray')\n",
    "ax.tick_params(axis='x', colors='gray')\n",
    "\n",
    "#aumenta o tamanho da letra pra que fique mais visível\n",
    "ax.tick_params(axis='both', which='major', labelsize=12)\n",
    "ax.tick_params(axis='both', which='minor', labelsize=12)\n",
    "\n",
    "# coloca as linhas verticais auxiliares\n",
    "plt.vlines(20, ymin=-0.6, ymax=1.6, color='lightgray', alpha=0.6)\n",
    "plt.vlines(40, ymin=-0.6, ymax=1.6, color='lightgray', alpha=0.6)\n",
    "plt.vlines(60, ymin=-0.6, ymax=1.6, color='lightgray', alpha=0.6)\n",
    "plt.vlines(80, ymin=-0.6, ymax=1.6, color='lightgray', alpha=0.6)\n",
    "plt.xlabel('', )\n",
    "\n",
    "#vetor das cores que vamos usar\n",
    "colors = ['mediumseagreen','lightpink']\n",
    "\n",
    "#cria a legenda\n",
    "com_superior = mpatches.Patch(color=colors[0], label='Com ensino superior completo')\n",
    "sem_superior = mpatches.Patch(color=colors[1], label='Sem ensino superior completo')\n",
    "\n",
    "#ajusta parametros da legenda\n",
    "ax.legend(handles=[com_superior, sem_superior],\n",
    "          ncol=2,\n",
    "          bbox_to_anchor=(0.017, 1),\n",
    "          fontsize=8)\n",
    "\n",
    "##GRÁFICO\n",
    "p1 = plt.barh(y='Mulheres',\n",
    "        height=0.9,\n",
    "        width = Mul_instrucao.values[0],\n",
    "        color = colors[0])\n",
    "lefts = Mul_instrucao.values[0]\n",
    "\n",
    "p2 = plt.barh(y='Mulheres',\n",
    "        height=0.9,\n",
    "        width = Mul_instrucao.values[1],\n",
    "        color = colors[1],\n",
    "        left = lefts)\n",
    "\n",
    "lefts = lefts + Mul_instrucao.values[1]\n",
    "\n",
    "p1 = plt.barh(y='Homens',\n",
    "        height=0.9,\n",
    "        width = Hom_instrucao.values[0],\n",
    "        color = colors[0])\n",
    "lefts = Hom_instrucao.values[0]\n",
    "\n",
    "p2 = plt.barh(y='Homens',\n",
    "        height=0.9,\n",
    "        width = Hom_instrucao.values[1],\n",
    "        color = colors[1],\n",
    "        left = lefts)\n",
    "\n",
    "plt.show()"
   ]
  },
  {
   "cell_type": "markdown",
   "metadata": {
    "heading_collapsed": true
   },
   "source": [
    "## Estado Civil"
   ]
  },
  {
   "cell_type": "code",
   "execution_count": 35,
   "metadata": {
    "hidden": true
   },
   "outputs": [],
   "source": [
    "Mul_estado_civil = (\n",
    "    df_uni_mul['estado_civil'].value_counts()) * 100 / df_uni_mul.shape[0]\n",
    "Hom_estado_civil = (\n",
    "    df_uni_hom['estado_civil'].value_counts()) * 100 / df_uni_hom.shape[0]"
   ]
  },
  {
   "cell_type": "code",
   "execution_count": 36,
   "metadata": {
    "hidden": true
   },
   "outputs": [
    {
     "data": {
      "image/png": "[encoded data removed]",
      "text/plain": [
       "<Figure size 432x144 with 1 Axes>"
      ]
     },
     "metadata": {
      "needs_background": "dark"
     },
     "output_type": "display_data"
    }
   ],
   "source": [
    "f, ax = plt.subplots(figsize=(6, 2))\n",
    "\n",
    "## AJUSTES DA IMAGEM\n",
    "\n",
    "#apaga os contornos da imagem\n",
    "ax.spines['top'].set_visible(False)\n",
    "ax.spines['right'].set_visible(False)\n",
    "ax.spines['bottom'].set_visible(False)\n",
    "ax.spines['left'].set_visible(False)\n",
    "\n",
    "#ajusta para que os números fiquem no formato percentual\n",
    "ax.xaxis.set_major_formatter(mtick.PercentFormatter(decimals=0))\n",
    "\n",
    "#deixa os marcadores numa cor mais suave que o preto\n",
    "ax.tick_params(axis='y', colors='gray')\n",
    "ax.tick_params(axis='x', colors='gray')\n",
    "\n",
    "#aumenta o tamanho da letra pra que fique mais visível\n",
    "ax.tick_params(axis='both', which='major', labelsize=12)\n",
    "ax.tick_params(axis='both', which='minor', labelsize=12)\n",
    "\n",
    "#ajusta as cores que vamos usar\n",
    "colors = ['sandybrown', 'teal', 'aquamarine', 'turquoise']\n",
    "\n",
    "#cria a legenda\n",
    "casados = mpatches.Patch(color=colors[0], label='casado(a)')\n",
    "solteiros = mpatches.Patch(color=colors[1], label='solteiro(a)')\n",
    "divorciados = mpatches.Patch(color=colors[2], label='divorciado(a)')\n",
    "viuvos = mpatches.Patch(color=colors[3], label='viuvo(a)')\n",
    "\n",
    "#ajusta parametros da legenda\n",
    "ax.legend(handles=[casados, divorciados, viuvos, solteiros],\n",
    "          ncol=4,\n",
    "          bbox_to_anchor=(0.017, 1),\n",
    "          fontsize=8)\n",
    "\n",
    "# coloca as linhas verticais auxiliares\n",
    "plt.vlines(20, ymin=-0.6, ymax=1.6, color='lightgray', alpha=0.5)\n",
    "plt.vlines(40, ymin=-0.6, ymax=1.6, color='lightgray', alpha=0.5)\n",
    "plt.vlines(60, ymin=-0.6, ymax=1.6, color='lightgray', alpha=0.5)\n",
    "plt.vlines(80, ymin=-0.6, ymax=1.6, color='lightgray', alpha=0.5)\n",
    "\n",
    "plt.xlabel('', )\n",
    "\n",
    "## GRÁFICO\n",
    "\n",
    "#para fazer o gráfico de barras empilhadas vamos plotar cada um das categorias separadamente\n",
    "p1 = plt.barh(y='Mulheres',\n",
    "              height=0.9,\n",
    "              width=Mul_estado_civil.values[0],\n",
    "              color=colors[0])\n",
    "lefts = Mul_estado_civil.values[0]\n",
    "\n",
    "p2 = plt.barh(y='Mulheres',\n",
    "              height=0.9,\n",
    "              width=Mul_estado_civil.values[2],\n",
    "              color=colors[2],\n",
    "              left=lefts)\n",
    "lefts = lefts + Mul_estado_civil.values[2]\n",
    "\n",
    "p3 = plt.barh(y='Mulheres',\n",
    "              height=0.9,\n",
    "              width=Mul_estado_civil.values[3],\n",
    "              color=colors[3],\n",
    "              left=lefts)\n",
    "lefts = lefts + Mul_estado_civil.values[3]\n",
    "\n",
    "p4 = plt.barh(y='Mulheres',\n",
    "              height=0.9,\n",
    "              width=Mul_estado_civil.values[1],\n",
    "              color=colors[1],\n",
    "              left=lefts)\n",
    "\n",
    "p1 = plt.barh(y='Homens',\n",
    "              height=0.9,\n",
    "              width=Hom_estado_civil.values[0],\n",
    "              color=colors[0])\n",
    "lefts = Hom_estado_civil.values[0]\n",
    "\n",
    "p2 = plt.barh(y='Homens',\n",
    "              height=0.9,\n",
    "              width=Hom_estado_civil.values[2],\n",
    "              color=colors[2],\n",
    "              left=lefts)\n",
    "lefts = lefts + Hom_estado_civil.values[2]\n",
    "\n",
    "p3 = plt.barh(y='Homens',\n",
    "              height=0.9,\n",
    "              width=Hom_estado_civil.values[3],\n",
    "              color=colors[3],\n",
    "              left=lefts)\n",
    "lefts = lefts + Hom_estado_civil.values[3]\n",
    "\n",
    "p4 = plt.barh(y='Homens',\n",
    "              height=0.9,\n",
    "              width=Hom_estado_civil.values[1],\n",
    "              color=colors[1],\n",
    "              left=lefts)\n",
    "\n",
    "plt.show()"
   ]
  },
  {
   "cell_type": "markdown",
   "metadata": {},
   "source": [
    "## Faixa Etária"
   ]
  },
  {
   "cell_type": "code",
   "execution_count": 37,
   "metadata": {},
   "outputs": [],
   "source": [
    "ranges = [20,30,40,50,60,70,80,90]\n",
    "y_label_idade = [ \"(20, 30]\", \"(30, 40]\", \"(40, 50]\", \"(50, 60]\", \"(60, 70]\", \"(70, 80]\", \"(80, 90]\"]"
   ]
  },
  {
   "cell_type": "code",
   "execution_count": 38,
   "metadata": {},
   "outputs": [],
   "source": [
    "data_idade = df_uni[['genero','idade']]\n",
    "\n",
    "mas =  data_idade['genero'] == 'masculino'\n",
    "data_idade_mas = data_idade[mas][['idade']]\n",
    "data_idade_mas = data_idade_mas.groupby(pd.cut(data_idade_mas.idade,\n",
    "                           ranges)).count() * 100 / df_uni_hom.shape[0]\n",
    "\n",
    "fem = data_idade['genero'] == 'feminino'\n",
    "data_idade_fem = data_idade[fem][['idade']]\n",
    "data_idade_fem = data_idade_fem.groupby(pd.cut(data_idade_fem.idade,\n",
    "                           ranges)).count() * 100 / df_uni_mul.shape[0]"
   ]
  },
  {
   "cell_type": "code",
   "execution_count": 39,
   "metadata": {},
   "outputs": [
    {
     "data": {
      "image/png": "[encoded data removed]",
      "text/plain": [
       "<Figure size 288x576 with 1 Axes>"
      ]
     },
     "metadata": {
      "needs_background": "dark"
     },
     "output_type": "display_data"
    }
   ],
   "source": [
    "f, ax = plt.subplots(figsize=(4, 8))\n",
    "\n",
    "## AJUSTES DA IMAGEM\n",
    "\n",
    "#apaga os contornos da imagem\n",
    "ax.spines['top'].set_visible(False)\n",
    "ax.spines['right'].set_visible(False)\n",
    "ax.spines['bottom'].set_visible(False)\n",
    "ax.spines['left'].set_visible(False)\n",
    "\n",
    "#linhas verticais auxiliares\n",
    "plt.vlines(5, ymin=-0.6, ymax=6.5, color='lightgray', alpha=0.2)\n",
    "plt.vlines(10, ymin=-0.6, ymax=6.5, color='lightgray', alpha=0.6)\n",
    "plt.vlines(15, ymin=-0.6, ymax=6.5, color='lightgray', alpha=0.2)\n",
    "plt.vlines(20, ymin=-0.6, ymax=6.5, color='lightgray', alpha=0.6)\n",
    "plt.vlines(25, ymin=-0.6, ymax=6.5, color='lightgray', alpha=0.2)\n",
    "\n",
    "#ajusta para que os números fiquem no formato percentual\n",
    "ax.xaxis.set_major_formatter(mtick.PercentFormatter(decimals=0))\n",
    "\n",
    "#deixa os marcadores numa cor mais suave que o preto\n",
    "ax.tick_params(axis='y', colors='gray')\n",
    "ax.tick_params(axis='x', colors='gray')\n",
    "\n",
    "#aumenta o tamanho da letra pra que fique mais visível\n",
    "ax.tick_params(axis='both', which='major', labelsize=12)\n",
    "ax.tick_params(axis='both', which='minor', labelsize=12)\n",
    "\n",
    "#nome do eixo y \n",
    "plt.ylabel('Faixa Etaria',color='gray', fontsize=12)\n",
    "\n",
    "#vetor de cores\n",
    "colors = ['grey', '#af78d4']\n",
    "\n",
    "#cria a legenda\n",
    "homens = mpatches.Patch(color=colors[0], label='Homens')\n",
    "mulheres = mpatches.Patch(color=colors[1], label='Mulheres')\n",
    "\n",
    "\n",
    "#ajusta parametros da legenda\n",
    "ax.legend(handles=[homens, mulheres],\n",
    "          ncol=2,\n",
    "          bbox_to_anchor=(0.8, 1),\n",
    "          fontsize=8)\n",
    "\n",
    "\n",
    "##GRÁFICO\n",
    "\n",
    "p1 = plt.barh(y=y_label_idade,\n",
    "               height=0.45,\n",
    "               width=data_idade_mas['idade'].values,\n",
    "               align='edge',\n",
    "               color='gray')\n",
    "\n",
    "p2 = plt.barh(y=y_label_idade,\n",
    "               height=-0.45,\n",
    "               width=data_idade_fem['idade'].values,\n",
    "               align='edge',\n",
    "               color=colors[1])\n",
    "\n"
   ]
  }
 ],
 "metadata": {
  "kernelspec": {
   "display_name": "Python 3",
   "language": "python",
   "name": "python3"
  },
  "language_info": {
   "codemirror_mode": {
    "name": "ipython",
    "version": 3
   },
   "file_extension": ".py",
   "mimetype": "text/x-python",
   "name": "python",
   "nbconvert_exporter": "python",
   "pygments_lexer": "ipython3",
   "version": "3.7.6"
  }
 },
 "nbformat": 4,
 "nbformat_minor": 4
}
