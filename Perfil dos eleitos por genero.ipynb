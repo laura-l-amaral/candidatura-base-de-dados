{
 "cells": [
  {
   "cell_type": "code",
   "execution_count": 434,
   "metadata": {},
   "outputs": [],
   "source": [
    "import basedosdados as bd\n",
    "import pandas as pd\n",
    "import matplotlib.pyplot as plt\n",
    "import seaborn as sns\n",
    "import plotly.graph_objects as gp"
   ]
  },
  {
   "cell_type": "code",
   "execution_count": 2,
   "metadata": {
    "scrolled": false
   },
   "outputs": [
    {
     "name": "stdout",
     "output_type": "stream",
     "text": [
      "Please visit this URL to authorize this application: https://accounts.google.com/o/oauth2/auth?response_type=code&client_id=262006177488-3425ks60hkk80fssi9vpohv88g6q1iqd.apps.googleusercontent.com&redirect_uri=urn%3Aietf%3Awg%3Aoauth%3A2.0%3Aoob&scope=https%3A%2F%2Fwww.googleapis.com%2Fauth%2Fcloud-platform&state=BC2oQemeRz74kqL7e2TGzMua0mTNrU&prompt=consent&access_type=offline\n",
      "Enter the authorization code: 4/1AX4XfWh-h-2sFCllsLfmpP7PpuH1ZBjteVt_bv5NuCJ2sjmiuvP7IgYCVBw\n",
      "\n",
      "dataset_id: \n",
      "\tbr_ibge_amc \n",
      "description: \n",
      "\tMapeamento completo de municípios para Áreas Minimamente Comparáveis entre os anos \n",
      "e 2010. \n",
      "-----------------------------------------------------------------------------------------------\n",
      "dataset_id: \n",
      "\tbr_ibge_cbo_2002 \n",
      "description: \n",
      "\tInformações sobre a Classificação Brasileira de Ocupações 2002. \n",
      "-----------------------------------------------------------------------------------------------\n",
      "dataset_id: \n",
      "\tbr_ibge_censo_demografico \n",
      "description: \n",
      "\tDados do Censo Demográfico do Instituto Brasileiro de Geografia e Estatística (IBGE). \n",
      "-----------------------------------------------------------------------------------------------\n",
      "dataset_id: \n",
      "\tbr_ibge_inpc \n",
      "description: \n",
      "\tÍndice Nacional de Preços ao Consumidor - INPC é produzido pelo IBGE e tem como \n",
      "a correção do poder de compra dos salários, através da mensuração das variações \n",
      "preços da cesta de consumo da população assalariada com mais baixo rendimento. \n",
      "-----------------------------------------------------------------------------------------------\n",
      "dataset_id: \n",
      "\tbr_ibge_ipca \n",
      "description: \n",
      "\tÍndice Nacional de Preços ao Consumidor Amplo - IPCA é produzido pelo IBGE desde \n",
      "de 1979. O IPCA é utilizado como indicador oficial do País desde 1985 para corrigir \n",
      "aluguéis, taxa de câmbio, poupança, entre outros \n",
      "-----------------------------------------------------------------------------------------------\n",
      "dataset_id: \n",
      "\tbr_ibge_ipca15 \n",
      "description: \n",
      "\tÍndice Nacional de Preços ao Consumidor Amplo 15 - IPCA-15 tem por objetivo medir \n",
      "inflação de um conjunto de produtos e serviços comercializados no varejo, referentes \n",
      "consumo pessoal das famílias, cujo rendimento varia entre 1 e 40 salários mínimos, \n",
      "que seja a fonte de rendimentos. Esta faixa de renda foi criada com o objetivo de \n",
      "uma cobertura de 90 % das famílias pertencentes as áreas urbanas de cobertura do \n",
      "qualquer que seja a fonte dos rendimentos. \n",
      "-----------------------------------------------------------------------------------------------\n",
      "dataset_id: \n",
      "\tbr_ibge_nomes_brasil \n",
      "description: \n",
      "\tNomes no Brasil é um projeto do IBGE para mapear a distribuição de nomes com dados \n",
      "Censos. \n",
      "-----------------------------------------------------------------------------------------------\n",
      "dataset_id: \n",
      "\tbr_ibge_pam \n",
      "description: \n",
      "\tA base apresenta dados da Pesquisa Agrícola Municipal, promovida pelo IBGE. Ela \n",
      "dados sobre a produção agrícola de cada município brasileiro, desde 1974 até 2019, \n",
      "por cada produto. Na base há duas tabelas: uma para as lavouras temporárias, outra \n",
      "lavouras consideradas permanentes, cada uma contendo informações sobre mais de 30 \n",
      "Cada uma das tabelas contém 8 variáveis sobre a produção agrícola, incluindo valor \n",
      "da produção, área utilizada para plantio, área utilizada para colheita, entre outros. \n",
      "base é relevante para melhor entender a economia rural do país em um nível de desagregação \n",
      "além de também ser útil para estudos sobre o uso da terra e até estudos de perspectiva \n",
      "considerando a extensão do período temporal que ela está disponível. \n",
      "-----------------------------------------------------------------------------------------------\n",
      "dataset_id: \n",
      "\tbr_ibge_pib \n",
      "description: \n",
      "\tDados sobre Produto Interno Bruto do IBGE. \n",
      "-----------------------------------------------------------------------------------------------\n",
      "dataset_id: \n",
      "\tbr_ibge_pnad \n",
      "description: \n",
      "\tMicrodados da Pesquisa Nacional por Amostra de Domicílios - PNAD, compatibilizados \n",
      "DataZoom. A PNAD investiga diversas características da população brasileira, tais \n",
      "educação, trabalho, rendimento e composição domiciliar. \n",
      "-----------------------------------------------------------------------------------------------\n",
      "dataset_id: \n",
      "\tbr_ibge_pnad_covid \n",
      "description: \n",
      "\tA coleta da Pesquisa Nacional por Amostra de Domicílios - PNAD COVID19 teve início \n",
      "4 de maio de 2020, com entrevistas realizadas por telefone em, aproximadamente, \n",
      "mil domicílios por semana, totalizando cerca de 193 mil domicílios por mês, em todo \n",
      "Território Nacional. A amostra é fixa, ou seja, os domicílios entrevistados no primeiro \n",
      "de coleta de dados permanecerão na amostra nos meses subsequentes, até o fim da \n",
      "\n",
      "-----------------------------------------------------------------------------------------------\n",
      "dataset_id: \n",
      "\tbr_ibge_pnadc \n",
      "description: \n",
      "\tDados da Pesquisa Nacional por Amostra de Domicílios Contínua (PNADc). \n",
      "-----------------------------------------------------------------------------------------------\n",
      "dataset_id: \n",
      "\tbr_ibge_populacao \n",
      "description: \n",
      "\tDados de população brasileira do IBGE. Reune informações de Censos, contagens e \n",
      "\n",
      "-----------------------------------------------------------------------------------------------\n",
      "dataset_id: \n",
      "\tbr_ibge_ppm \n",
      "description: \n",
      "\tA Pesquisa da Pecuária Municipal (PPM) teve início no Ministério da Agricultura \n",
      "1945. A Pesquisa da Pecuária Municipal investiga informações sobre os efetivos das \n",
      "animais criadas e os produtos da pecuária, tendo como unidade de coleta o município \n",
      "fornece informações sobre os efetivos da pecuária existentes no município na data \n",
      "referência do levantamento, bem como a produção de origem animal, e o valor da produção \n",
      "o ano de referência. A periodicidade da pesquisa é anual. \n",
      "-----------------------------------------------------------------------------------------------\n",
      "\n"
     ]
    }
   ],
   "source": [
    "bd.list_datasets(filter_by='ibge', with_description=True)"
   ]
  },
  {
   "cell_type": "code",
   "execution_count": 4,
   "metadata": {},
   "outputs": [
    {
     "name": "stdout",
     "output_type": "stream",
     "text": [
      "\n",
      "project_id: \n",
      "\tbasedosdados \n",
      "dataset_id: \n",
      "\tbr_tse_eleicoes \n",
      "table_id: \n",
      "\tcandidatos \n",
      "num_rows: \n",
      "\t2858297 \n",
      "size_mb: \n",
      "\t718.03 \n",
      "-----------------------------------------------------------------------------------------------\n",
      "\n"
     ]
    }
   ],
   "source": [
    "bd.get_table_size(dataset_id='br_tse_eleicoes',\n",
    "                  table_id='candidatos',\n",
    "                  billing_project_id=\"rfid-250503\")"
   ]
  },
  {
   "cell_type": "code",
   "execution_count": 5,
   "metadata": {},
   "outputs": [
    {
     "name": "stdout",
     "output_type": "stream",
     "text": [
      "\n",
      "project_id: \n",
      "\tbasedosdados \n",
      "dataset_id: \n",
      "\tbr_tse_eleicoes \n",
      "table_id: \n",
      "\tresultados_candidato \n",
      "num_rows: \n",
      "\t2598426 \n",
      "size_mb: \n",
      "\t211.58 \n",
      "-----------------------------------------------------------------------------------------------\n",
      "\n"
     ]
    }
   ],
   "source": [
    "bd.get_table_size(dataset_id='br_tse_eleicoes',\n",
    "                  table_id='resultados_candidato',\n",
    "                  billing_project_id=\"rfid-250503\")"
   ]
  },
  {
   "cell_type": "code",
   "execution_count": 8,
   "metadata": {},
   "outputs": [
    {
     "name": "stderr",
     "output_type": "stream",
     "text": [
      "\n",
      "Downloading:   0%|                                                                         | 0/29088 [00:00<?, ?rows/s]\u001b[A\n",
      "Downloading:  99%|██████████████████████████████████████████████████████████▌| 28854/29088 [00:16<00:00, 1787.32rows/s]\u001b[A\n",
      "Downloading: 100%|███████████████████████████████████████████████████████████| 29088/29088 [00:16<00:00, 1742.91rows/s]\u001b[A\n"
     ]
    }
   ],
   "source": [
    "query = \"\"\"\n",
    "SELECT *\n",
    "FROM `basedosdados.br_tse_eleicoes.candidatos` \n",
    "WHERE ano = 2018\n",
    "\"\"\"\n",
    "df_candidatos = bd.read_sql(query, billing_project_id=\"rfid-250503\")"
   ]
  },
  {
   "cell_type": "code",
   "execution_count": 37,
   "metadata": {
    "scrolled": true
   },
   "outputs": [
    {
     "name": "stderr",
     "output_type": "stream",
     "text": [
      "Downloading: 100%|███████████████████████████████████████████████████████████| 26462/26462 [00:03<00:00, 6853.72rows/s]\n"
     ]
    }
   ],
   "source": [
    "query = \"\"\"\n",
    "SELECT *\n",
    "FROM `basedosdados.br_tse_eleicoes.resultados_candidato` \n",
    "WHERE ano = 2018\n",
    "\"\"\"\n",
    "df_resultados = bd.read_sql(query, billing_project_id=\"rfid-250503\")"
   ]
  },
  {
   "cell_type": "markdown",
   "metadata": {},
   "source": [
    "## Limpeza dos dados"
   ]
  },
  {
   "cell_type": "markdown",
   "metadata": {},
   "source": [
    "### Base df_resultados"
   ]
  },
  {
   "cell_type": "code",
   "execution_count": 38,
   "metadata": {},
   "outputs": [
    {
     "data": {
      "text/html": [
       "<div>\n",
       "<style scoped>\n",
       "    .dataframe tbody tr th:only-of-type {\n",
       "        vertical-align: middle;\n",
       "    }\n",
       "\n",
       "    .dataframe tbody tr th {\n",
       "        vertical-align: top;\n",
       "    }\n",
       "\n",
       "    .dataframe thead th {\n",
       "        text-align: right;\n",
       "    }\n",
       "</style>\n",
       "<table border=\"1\" class=\"dataframe\">\n",
       "  <thead>\n",
       "    <tr style=\"text-align: right;\">\n",
       "      <th></th>\n",
       "      <th>ano</th>\n",
       "      <th>turno</th>\n",
       "      <th>tipo_eleicao</th>\n",
       "      <th>sigla_uf</th>\n",
       "      <th>id_municipio</th>\n",
       "      <th>id_municipio_tse</th>\n",
       "      <th>cargo</th>\n",
       "      <th>sigla_partido</th>\n",
       "      <th>numero_candidato</th>\n",
       "      <th>sequencial_candidato</th>\n",
       "      <th>id_candidato_bd</th>\n",
       "      <th>resultado</th>\n",
       "      <th>votos</th>\n",
       "    </tr>\n",
       "  </thead>\n",
       "  <tbody>\n",
       "    <tr>\n",
       "      <th>0</th>\n",
       "      <td>2018</td>\n",
       "      <td>1</td>\n",
       "      <td>eleicao ordinaria</td>\n",
       "      <td>None</td>\n",
       "      <td>None</td>\n",
       "      <td>None</td>\n",
       "      <td>presidente</td>\n",
       "      <td>DC</td>\n",
       "      <td>27</td>\n",
       "      <td>280000624085</td>\n",
       "      <td>None</td>\n",
       "      <td>nao eleito</td>\n",
       "      <td>41710</td>\n",
       "    </tr>\n",
       "    <tr>\n",
       "      <th>1</th>\n",
       "      <td>2018</td>\n",
       "      <td>1</td>\n",
       "      <td>eleicao ordinaria</td>\n",
       "      <td>None</td>\n",
       "      <td>None</td>\n",
       "      <td>None</td>\n",
       "      <td>presidente</td>\n",
       "      <td>MDB</td>\n",
       "      <td>15</td>\n",
       "      <td>280000622281</td>\n",
       "      <td>897799</td>\n",
       "      <td>nao eleito</td>\n",
       "      <td>1288950</td>\n",
       "    </tr>\n",
       "    <tr>\n",
       "      <th>2</th>\n",
       "      <td>2018</td>\n",
       "      <td>1</td>\n",
       "      <td>eleicao ordinaria</td>\n",
       "      <td>None</td>\n",
       "      <td>None</td>\n",
       "      <td>None</td>\n",
       "      <td>presidente</td>\n",
       "      <td>NOVO</td>\n",
       "      <td>30</td>\n",
       "      <td>280000607640</td>\n",
       "      <td>1494256</td>\n",
       "      <td>nao eleito</td>\n",
       "      <td>2679745</td>\n",
       "    </tr>\n",
       "    <tr>\n",
       "      <th>3</th>\n",
       "      <td>2018</td>\n",
       "      <td>1</td>\n",
       "      <td>eleicao ordinaria</td>\n",
       "      <td>None</td>\n",
       "      <td>None</td>\n",
       "      <td>None</td>\n",
       "      <td>presidente</td>\n",
       "      <td>PATRIOTA</td>\n",
       "      <td>51</td>\n",
       "      <td>280000602500</td>\n",
       "      <td>767512</td>\n",
       "      <td>nao eleito</td>\n",
       "      <td>1348323</td>\n",
       "    </tr>\n",
       "    <tr>\n",
       "      <th>4</th>\n",
       "      <td>2018</td>\n",
       "      <td>1</td>\n",
       "      <td>eleicao ordinaria</td>\n",
       "      <td>None</td>\n",
       "      <td>None</td>\n",
       "      <td>None</td>\n",
       "      <td>presidente</td>\n",
       "      <td>PDT</td>\n",
       "      <td>12</td>\n",
       "      <td>280000605589</td>\n",
       "      <td>616370</td>\n",
       "      <td>nao eleito</td>\n",
       "      <td>13344371</td>\n",
       "    </tr>\n",
       "    <tr>\n",
       "      <th>...</th>\n",
       "      <td>...</td>\n",
       "      <td>...</td>\n",
       "      <td>...</td>\n",
       "      <td>...</td>\n",
       "      <td>...</td>\n",
       "      <td>...</td>\n",
       "      <td>...</td>\n",
       "      <td>...</td>\n",
       "      <td>...</td>\n",
       "      <td>...</td>\n",
       "      <td>...</td>\n",
       "      <td>...</td>\n",
       "      <td>...</td>\n",
       "    </tr>\n",
       "    <tr>\n",
       "      <th>26457</th>\n",
       "      <td>2018</td>\n",
       "      <td>2</td>\n",
       "      <td>eleicao ordinaria</td>\n",
       "      <td>SC</td>\n",
       "      <td>None</td>\n",
       "      <td>None</td>\n",
       "      <td>governador</td>\n",
       "      <td>PSL</td>\n",
       "      <td>17</td>\n",
       "      <td>240000609724</td>\n",
       "      <td>1405354</td>\n",
       "      <td>eleito</td>\n",
       "      <td>2644179</td>\n",
       "    </tr>\n",
       "    <tr>\n",
       "      <th>26458</th>\n",
       "      <td>2018</td>\n",
       "      <td>2</td>\n",
       "      <td>eleicao ordinaria</td>\n",
       "      <td>SE</td>\n",
       "      <td>None</td>\n",
       "      <td>None</td>\n",
       "      <td>governador</td>\n",
       "      <td>PSB</td>\n",
       "      <td>40</td>\n",
       "      <td>260000614791</td>\n",
       "      <td>1604206</td>\n",
       "      <td>nao eleito</td>\n",
       "      <td>370161</td>\n",
       "    </tr>\n",
       "    <tr>\n",
       "      <th>26459</th>\n",
       "      <td>2018</td>\n",
       "      <td>2</td>\n",
       "      <td>eleicao ordinaria</td>\n",
       "      <td>SE</td>\n",
       "      <td>None</td>\n",
       "      <td>None</td>\n",
       "      <td>governador</td>\n",
       "      <td>PSD</td>\n",
       "      <td>55</td>\n",
       "      <td>260000623573</td>\n",
       "      <td>730970</td>\n",
       "      <td>eleito</td>\n",
       "      <td>679051</td>\n",
       "    </tr>\n",
       "    <tr>\n",
       "      <th>26460</th>\n",
       "      <td>2018</td>\n",
       "      <td>2</td>\n",
       "      <td>eleicao ordinaria</td>\n",
       "      <td>SP</td>\n",
       "      <td>None</td>\n",
       "      <td>None</td>\n",
       "      <td>governador</td>\n",
       "      <td>PSB</td>\n",
       "      <td>40</td>\n",
       "      <td>250000615141</td>\n",
       "      <td>328516</td>\n",
       "      <td>nao eleito</td>\n",
       "      <td>10248740</td>\n",
       "    </tr>\n",
       "    <tr>\n",
       "      <th>26461</th>\n",
       "      <td>2018</td>\n",
       "      <td>2</td>\n",
       "      <td>eleicao ordinaria</td>\n",
       "      <td>SP</td>\n",
       "      <td>None</td>\n",
       "      <td>None</td>\n",
       "      <td>governador</td>\n",
       "      <td>PSDB</td>\n",
       "      <td>45</td>\n",
       "      <td>250000612596</td>\n",
       "      <td>1744670</td>\n",
       "      <td>eleito</td>\n",
       "      <td>10990350</td>\n",
       "    </tr>\n",
       "  </tbody>\n",
       "</table>\n",
       "<p>26462 rows × 13 columns</p>\n",
       "</div>"
      ],
      "text/plain": [
       "        ano  turno       tipo_eleicao sigla_uf id_municipio id_municipio_tse  \\\n",
       "0      2018      1  eleicao ordinaria     None         None             None   \n",
       "1      2018      1  eleicao ordinaria     None         None             None   \n",
       "2      2018      1  eleicao ordinaria     None         None             None   \n",
       "3      2018      1  eleicao ordinaria     None         None             None   \n",
       "4      2018      1  eleicao ordinaria     None         None             None   \n",
       "...     ...    ...                ...      ...          ...              ...   \n",
       "26457  2018      2  eleicao ordinaria       SC         None             None   \n",
       "26458  2018      2  eleicao ordinaria       SE         None             None   \n",
       "26459  2018      2  eleicao ordinaria       SE         None             None   \n",
       "26460  2018      2  eleicao ordinaria       SP         None             None   \n",
       "26461  2018      2  eleicao ordinaria       SP         None             None   \n",
       "\n",
       "            cargo sigla_partido numero_candidato sequencial_candidato  \\\n",
       "0      presidente            DC               27         280000624085   \n",
       "1      presidente           MDB               15         280000622281   \n",
       "2      presidente          NOVO               30         280000607640   \n",
       "3      presidente      PATRIOTA               51         280000602500   \n",
       "4      presidente           PDT               12         280000605589   \n",
       "...           ...           ...              ...                  ...   \n",
       "26457  governador           PSL               17         240000609724   \n",
       "26458  governador           PSB               40         260000614791   \n",
       "26459  governador           PSD               55         260000623573   \n",
       "26460  governador           PSB               40         250000615141   \n",
       "26461  governador          PSDB               45         250000612596   \n",
       "\n",
       "      id_candidato_bd   resultado     votos  \n",
       "0                None  nao eleito     41710  \n",
       "1              897799  nao eleito   1288950  \n",
       "2             1494256  nao eleito   2679745  \n",
       "3              767512  nao eleito   1348323  \n",
       "4              616370  nao eleito  13344371  \n",
       "...               ...         ...       ...  \n",
       "26457         1405354      eleito   2644179  \n",
       "26458         1604206  nao eleito    370161  \n",
       "26459          730970      eleito    679051  \n",
       "26460          328516  nao eleito  10248740  \n",
       "26461         1744670      eleito  10990350  \n",
       "\n",
       "[26462 rows x 13 columns]"
      ]
     },
     "execution_count": 38,
     "metadata": {},
     "output_type": "execute_result"
    }
   ],
   "source": [
    "df_resultados"
   ]
  },
  {
   "cell_type": "markdown",
   "metadata": {},
   "source": [
    "Queremos apenas os candidatos que:\n",
    "    1. Concorreram para cargos legislativos\n",
    "    2. Foram eleitos\n",
    "\n",
    "    \n",
    "Vamos ver quais os os cargos que foram votados em 2018"
   ]
  },
  {
   "cell_type": "code",
   "execution_count": 39,
   "metadata": {},
   "outputs": [
    {
     "data": {
      "text/plain": [
       "array(['presidente', 'deputado estadual', 'deputado federal',\n",
       "       'governador', 'senador', 'deputado distrital'], dtype=object)"
      ]
     },
     "execution_count": 39,
     "metadata": {},
     "output_type": "execute_result"
    }
   ],
   "source": [
    "df_resultados.cargo.unique()"
   ]
  },
  {
   "cell_type": "code",
   "execution_count": 40,
   "metadata": {},
   "outputs": [],
   "source": [
    "cargos_legislativos = [\n",
    "    'deputado estadual', 'deputado federal', 'senador', 'deputado distrital'\n",
    "]"
   ]
  },
  {
   "cell_type": "markdown",
   "metadata": {},
   "source": [
    "Vamos selecionar os resultados que indicam que o candidato foi eleito"
   ]
  },
  {
   "cell_type": "code",
   "execution_count": 48,
   "metadata": {},
   "outputs": [
    {
     "data": {
      "text/plain": [
       "array(['nao eleito', '2º turno', 'suplente', 'eleito por qp',\n",
       "       'eleito por media', 'eleito'], dtype=object)"
      ]
     },
     "execution_count": 48,
     "metadata": {},
     "output_type": "execute_result"
    }
   ],
   "source": [
    "df_resultados.resultado.unique()"
   ]
  },
  {
   "cell_type": "code",
   "execution_count": 49,
   "metadata": {},
   "outputs": [],
   "source": [
    "categ_eleito = ['eleito', 'eleito por qp', 'eleito por media']"
   ]
  },
  {
   "cell_type": "markdown",
   "metadata": {},
   "source": [
    "Agora filtramos apenas os resultados que nos interessa"
   ]
  },
  {
   "cell_type": "code",
   "execution_count": 50,
   "metadata": {},
   "outputs": [],
   "source": [
    "eleitos = df_resultados.resultado.isin(categ_eleito)\n",
    "legislativos = df_resultados.cargo.isin(cargos_legislativos)"
   ]
  },
  {
   "cell_type": "code",
   "execution_count": 51,
   "metadata": {},
   "outputs": [],
   "source": [
    "df_eleitos_legis = df_resultados[eleitos&legislativos]"
   ]
  },
  {
   "cell_type": "markdown",
   "metadata": {},
   "source": [
    "Mantemos apenas as colunas que nos serão úteis"
   ]
  },
  {
   "cell_type": "code",
   "execution_count": 59,
   "metadata": {},
   "outputs": [
    {
     "data": {
      "text/plain": [
       "Index(['ano', 'turno', 'tipo_eleicao', 'sigla_uf', 'id_municipio',\n",
       "       'id_municipio_tse', 'cargo', 'sigla_partido', 'numero_candidato',\n",
       "       'sequencial_candidato', 'id_candidato_bd', 'resultado', 'votos'],\n",
       "      dtype='object')"
      ]
     },
     "execution_count": 59,
     "metadata": {},
     "output_type": "execute_result"
    }
   ],
   "source": [
    "df_eleitos_legis.columns"
   ]
  },
  {
   "cell_type": "code",
   "execution_count": 111,
   "metadata": {},
   "outputs": [],
   "source": [
    "colunas_selecionadas = ['tipo_eleicao','sigla_uf','cargo',\n",
    "                        'sigla_partido','id_candidato_bd',\n",
    "                        'resultado','votos','sequencial_candidato']"
   ]
  },
  {
   "cell_type": "code",
   "execution_count": 112,
   "metadata": {},
   "outputs": [],
   "source": [
    "df_eleitos_legis_col_sel = df_eleitos_legis[colunas_selecionadas]"
   ]
  },
  {
   "cell_type": "code",
   "execution_count": 113,
   "metadata": {},
   "outputs": [
    {
     "data": {
      "text/html": [
       "<div>\n",
       "<style scoped>\n",
       "    .dataframe tbody tr th:only-of-type {\n",
       "        vertical-align: middle;\n",
       "    }\n",
       "\n",
       "    .dataframe tbody tr th {\n",
       "        vertical-align: top;\n",
       "    }\n",
       "\n",
       "    .dataframe thead th {\n",
       "        text-align: right;\n",
       "    }\n",
       "</style>\n",
       "<table border=\"1\" class=\"dataframe\">\n",
       "  <thead>\n",
       "    <tr style=\"text-align: right;\">\n",
       "      <th></th>\n",
       "      <th>tipo_eleicao</th>\n",
       "      <th>sigla_uf</th>\n",
       "      <th>cargo</th>\n",
       "      <th>sigla_partido</th>\n",
       "      <th>id_candidato_bd</th>\n",
       "      <th>resultado</th>\n",
       "      <th>votos</th>\n",
       "      <th>sequencial_candidato</th>\n",
       "    </tr>\n",
       "  </thead>\n",
       "  <tbody>\n",
       "    <tr>\n",
       "      <th>52</th>\n",
       "      <td>eleicao ordinaria</td>\n",
       "      <td>AC</td>\n",
       "      <td>deputado estadual</td>\n",
       "      <td>DEM</td>\n",
       "      <td>479202</td>\n",
       "      <td>eleito por qp</td>\n",
       "      <td>5021</td>\n",
       "      <td>10000624305</td>\n",
       "    </tr>\n",
       "    <tr>\n",
       "      <th>64</th>\n",
       "      <td>eleicao ordinaria</td>\n",
       "      <td>AC</td>\n",
       "      <td>deputado estadual</td>\n",
       "      <td>MDB</td>\n",
       "      <td>1462277</td>\n",
       "      <td>eleito por qp</td>\n",
       "      <td>9405</td>\n",
       "      <td>10000610628</td>\n",
       "    </tr>\n",
       "    <tr>\n",
       "      <th>70</th>\n",
       "      <td>eleicao ordinaria</td>\n",
       "      <td>AC</td>\n",
       "      <td>deputado estadual</td>\n",
       "      <td>MDB</td>\n",
       "      <td>1276214</td>\n",
       "      <td>eleito por media</td>\n",
       "      <td>9139</td>\n",
       "      <td>10000610634</td>\n",
       "    </tr>\n",
       "    <tr>\n",
       "      <th>73</th>\n",
       "      <td>eleicao ordinaria</td>\n",
       "      <td>AC</td>\n",
       "      <td>deputado estadual</td>\n",
       "      <td>MDB</td>\n",
       "      <td>1347133</td>\n",
       "      <td>eleito por qp</td>\n",
       "      <td>10349</td>\n",
       "      <td>10000610637</td>\n",
       "    </tr>\n",
       "    <tr>\n",
       "      <th>78</th>\n",
       "      <td>eleicao ordinaria</td>\n",
       "      <td>AC</td>\n",
       "      <td>deputado estadual</td>\n",
       "      <td>PC do B</td>\n",
       "      <td>798934</td>\n",
       "      <td>eleito por qp</td>\n",
       "      <td>6662</td>\n",
       "      <td>10000608372</td>\n",
       "    </tr>\n",
       "    <tr>\n",
       "      <th>...</th>\n",
       "      <td>...</td>\n",
       "      <td>...</td>\n",
       "      <td>...</td>\n",
       "      <td>...</td>\n",
       "      <td>...</td>\n",
       "      <td>...</td>\n",
       "      <td>...</td>\n",
       "      <td>...</td>\n",
       "    </tr>\n",
       "    <tr>\n",
       "      <th>26402</th>\n",
       "      <td>eleicao ordinaria</td>\n",
       "      <td>TO</td>\n",
       "      <td>deputado federal</td>\n",
       "      <td>PT</td>\n",
       "      <td>625895</td>\n",
       "      <td>eleito por media</td>\n",
       "      <td>18167</td>\n",
       "      <td>270000626122</td>\n",
       "    </tr>\n",
       "    <tr>\n",
       "      <th>26416</th>\n",
       "      <td>eleicao ordinaria</td>\n",
       "      <td>TO</td>\n",
       "      <td>deputado federal</td>\n",
       "      <td>SOLIDARIEDADE</td>\n",
       "      <td>119394</td>\n",
       "      <td>eleito por qp</td>\n",
       "      <td>71842</td>\n",
       "      <td>270000618825</td>\n",
       "    </tr>\n",
       "    <tr>\n",
       "      <th>26417</th>\n",
       "      <td>eleicao ordinaria</td>\n",
       "      <td>TO</td>\n",
       "      <td>deputado federal</td>\n",
       "      <td>SOLIDARIEDADE</td>\n",
       "      <td>801809</td>\n",
       "      <td>eleito por qp</td>\n",
       "      <td>48812</td>\n",
       "      <td>270000618830</td>\n",
       "    </tr>\n",
       "    <tr>\n",
       "      <th>26424</th>\n",
       "      <td>eleicao ordinaria</td>\n",
       "      <td>TO</td>\n",
       "      <td>senador</td>\n",
       "      <td>PSD</td>\n",
       "      <td>1379625</td>\n",
       "      <td>eleito</td>\n",
       "      <td>214355</td>\n",
       "      <td>270000626087</td>\n",
       "    </tr>\n",
       "    <tr>\n",
       "      <th>26431</th>\n",
       "      <td>eleicao ordinaria</td>\n",
       "      <td>TO</td>\n",
       "      <td>senador</td>\n",
       "      <td>SOLIDARIEDADE</td>\n",
       "      <td>972537</td>\n",
       "      <td>eleito</td>\n",
       "      <td>248358</td>\n",
       "      <td>270000629454</td>\n",
       "    </tr>\n",
       "  </tbody>\n",
       "</table>\n",
       "<p>1624 rows × 8 columns</p>\n",
       "</div>"
      ],
      "text/plain": [
       "            tipo_eleicao sigla_uf              cargo  sigla_partido  \\\n",
       "52     eleicao ordinaria       AC  deputado estadual            DEM   \n",
       "64     eleicao ordinaria       AC  deputado estadual            MDB   \n",
       "70     eleicao ordinaria       AC  deputado estadual            MDB   \n",
       "73     eleicao ordinaria       AC  deputado estadual            MDB   \n",
       "78     eleicao ordinaria       AC  deputado estadual        PC do B   \n",
       "...                  ...      ...                ...            ...   \n",
       "26402  eleicao ordinaria       TO   deputado federal             PT   \n",
       "26416  eleicao ordinaria       TO   deputado federal  SOLIDARIEDADE   \n",
       "26417  eleicao ordinaria       TO   deputado federal  SOLIDARIEDADE   \n",
       "26424  eleicao ordinaria       TO            senador            PSD   \n",
       "26431  eleicao ordinaria       TO            senador  SOLIDARIEDADE   \n",
       "\n",
       "      id_candidato_bd         resultado   votos sequencial_candidato  \n",
       "52             479202     eleito por qp    5021          10000624305  \n",
       "64            1462277     eleito por qp    9405          10000610628  \n",
       "70            1276214  eleito por media    9139          10000610634  \n",
       "73            1347133     eleito por qp   10349          10000610637  \n",
       "78             798934     eleito por qp    6662          10000608372  \n",
       "...               ...               ...     ...                  ...  \n",
       "26402          625895  eleito por media   18167         270000626122  \n",
       "26416          119394     eleito por qp   71842         270000618825  \n",
       "26417          801809     eleito por qp   48812         270000618830  \n",
       "26424         1379625            eleito  214355         270000626087  \n",
       "26431          972537            eleito  248358         270000629454  \n",
       "\n",
       "[1624 rows x 8 columns]"
      ]
     },
     "execution_count": 113,
     "metadata": {},
     "output_type": "execute_result"
    }
   ],
   "source": [
    "df_eleitos_legis_col_sel"
   ]
  },
  {
   "cell_type": "markdown",
   "metadata": {},
   "source": [
    "Checamos se os dados estão coerentes com o que conhecemos das eleições"
   ]
  },
  {
   "cell_type": "code",
   "execution_count": 65,
   "metadata": {},
   "outputs": [
    {
     "data": {
      "text/plain": [
       "deputado estadual     1035\n",
       "deputado federal       513\n",
       "senador                 52\n",
       "deputado distrital      24\n",
       "Name: cargo, dtype: int64"
      ]
     },
     "execution_count": 65,
     "metadata": {},
     "output_type": "execute_result"
    }
   ],
   "source": [
    "df_eleitos_legis_col_sel.cargo.value_counts()"
   ]
  },
  {
   "cell_type": "markdown",
   "metadata": {},
   "source": [
    "### Base df_canditatos"
   ]
  },
  {
   "cell_type": "code",
   "execution_count": 58,
   "metadata": {},
   "outputs": [
    {
     "data": {
      "text/plain": [
       "Index(['ano', 'tipo_eleicao', 'sigla_uf', 'id_municipio', 'id_municipio_tse',\n",
       "       'id_candidato_bd', 'cpf', 'titulo_eleitoral', 'sequencial', 'numero',\n",
       "       'nome', 'nome_urna', 'numero_partido', 'sigla_partido', 'cargo',\n",
       "       'situacao', 'ocupacao', 'data_nascimento', 'idade', 'genero',\n",
       "       'instrucao', 'estado_civil', 'nacionalidade', 'sigla_uf_nascimento',\n",
       "       'municipio_nascimento', 'email', 'raca'],\n",
       "      dtype='object')"
      ]
     },
     "execution_count": 58,
     "metadata": {},
     "output_type": "execute_result"
    }
   ],
   "source": [
    "df_candidatos.columns"
   ]
  },
  {
   "cell_type": "code",
   "execution_count": 75,
   "metadata": {},
   "outputs": [
    {
     "name": "stdout",
     "output_type": "stream",
     "text": [
      "ano                                      2018\n",
      "tipo_eleicao                eleicao ordinaria\n",
      "sigla_uf                                   MS\n",
      "id_municipio                             None\n",
      "id_municipio_tse                         None\n",
      "id_candidato_bd                        987676\n",
      "cpf                               32242603191\n",
      "titulo_eleitoral                 006354201937\n",
      "sequencial                       120000619283\n",
      "numero                                   2929\n",
      "nome                              Dilson Arce\n",
      "nome_urna                          Dirce Arce\n",
      "numero_partido                             29\n",
      "sigla_partido                             PCO\n",
      "cargo                        deputado federal\n",
      "situacao                           indeferido\n",
      "ocupacao                               outros\n",
      "data_nascimento           1964-11-09 00:00:00\n",
      "idade                                    54.0\n",
      "genero                              masculino\n",
      "instrucao                        le e escreve\n",
      "estado_civil                      solteiro(a)\n",
      "nacionalidade                      brasileira\n",
      "sigla_uf_nascimento                        MS\n",
      "municipio_nascimento             Campo Grande\n",
      "email                   ceemspco2018@gmailcom\n",
      "raca                                    parda\n",
      "Name: 0, dtype: object\n"
     ]
    }
   ],
   "source": [
    "print(df_candidatos.iloc[0])"
   ]
  },
  {
   "cell_type": "code",
   "execution_count": 100,
   "metadata": {},
   "outputs": [],
   "source": [
    "df_candidatos_def = df_candidatos[df_candidatos['situacao']=='deferido']"
   ]
  },
  {
   "cell_type": "code",
   "execution_count": 114,
   "metadata": {},
   "outputs": [],
   "source": [
    "colsel_caract_candidatos = ['nome','nome_urna',\n",
    "                            'ocupacao','data_nascimento',\n",
    "                            'idade','genero','instrucao','estado_civil',\n",
    "                            'nacionalidade','sigla_uf_nascimento',\n",
    "                            'municipio_nascimento','raca','sequencial']"
   ]
  },
  {
   "cell_type": "code",
   "execution_count": 115,
   "metadata": {},
   "outputs": [],
   "source": [
    "df_candidatos_col_sel = df_candidatos_def[colsel_caract_candidatos]"
   ]
  },
  {
   "cell_type": "code",
   "execution_count": null,
   "metadata": {},
   "outputs": [],
   "source": []
  },
  {
   "cell_type": "markdown",
   "metadata": {},
   "source": [
    "### Juntamos as 2 bases"
   ]
  },
  {
   "cell_type": "code",
   "execution_count": 145,
   "metadata": {},
   "outputs": [],
   "source": [
    "df_uni = pd.merge(left=df_eleitos_legis_col_sel,\n",
    "                     right=df_candidatos_col_sel,\n",
    "                     left_on='sequencial_candidato',\n",
    "                     right_on='sequencial',\n",
    "                     how=\"left\")"
   ]
  },
  {
   "cell_type": "code",
   "execution_count": 153,
   "metadata": {},
   "outputs": [],
   "source": [
    "df_uni_mul = df_uni[df_uni.genero=='feminino']\n",
    "df_uni_hom = df_uni[df_uni.genero=='masculino']"
   ]
  },
  {
   "cell_type": "markdown",
   "metadata": {},
   "source": [
    "# Começamos as visualizações"
   ]
  },
  {
   "cell_type": "code",
   "execution_count": 162,
   "metadata": {},
   "outputs": [
    {
     "data": {
      "text/plain": [
       "array(['masculino', 'feminino'], dtype=object)"
      ]
     },
     "execution_count": 162,
     "metadata": {},
     "output_type": "execute_result"
    }
   ],
   "source": [
    "df_uni['genero'].value_counts().index.values\n"
   ]
  },
  {
   "cell_type": "code",
   "execution_count": 275,
   "metadata": {},
   "outputs": [
    {
     "data": {
      "image/png": "[encoded data removed]",
      "text/plain": [
       "<Figure size 576x144 with 1 Axes>"
      ]
     },
     "metadata": {},
     "output_type": "display_data"
    }
   ],
   "source": [
    "f, ax = plt.subplots(figsize=(8, 2))\n",
    "\n",
    "colors = ['grey', 'purple']\n",
    "\n",
    "ax.spines['top'].set_visible(False)\n",
    "ax.spines['right'].set_visible(False)\n",
    "ax.spines['bottom'].set_visible(False)\n",
    "ax.spines['left'].set_visible(False)\n",
    "\n",
    "ax.tick_params(axis='y', colors='gray')\n",
    "\n",
    "plt.barh(y=df_uni['genero'].value_counts().index.values,\n",
    "         height=0.9,\n",
    "         width=df_uni['genero'].value_counts().values,\n",
    "         color=colors,\n",
    "         left=[1, 1.2])\n",
    "plt.title('Número total de candidatos eleitos por gênero', fontsize=12)\n",
    "plt.xlabel('')\n",
    "plt.show()"
   ]
  },
  {
   "cell_type": "code",
   "execution_count": 214,
   "metadata": {},
   "outputs": [
    {
     "data": {
      "text/plain": [
       "245"
      ]
     },
     "execution_count": 214,
     "metadata": {},
     "output_type": "execute_result"
    }
   ],
   "source": [
    "df_uni_mul.shape[0]"
   ]
  },
  {
   "cell_type": "code",
   "execution_count": 266,
   "metadata": {},
   "outputs": [],
   "source": [
    "Mul_raca = (df_uni_mul['raca'].value_counts())*100/df_uni_mul.shape[0]\n",
    "Hom_raca = (df_uni_hom['raca'].value_counts())*100/df_uni_hom.shape[0]"
   ]
  },
  {
   "cell_type": "code",
   "execution_count": 406,
   "metadata": {},
   "outputs": [
    {
     "data": {
      "text/plain": [
       "branca      73.061224\n",
       "parda       18.775510\n",
       "preta        7.755102\n",
       "indigena     0.408163\n",
       "Name: raca, dtype: float64"
      ]
     },
     "execution_count": 406,
     "metadata": {},
     "output_type": "execute_result"
    }
   ],
   "source": [
    "Mul_raca"
   ]
  },
  {
   "cell_type": "code",
   "execution_count": 407,
   "metadata": {},
   "outputs": [
    {
     "data": {
      "text/plain": [
       "branca     72.474378\n",
       "parda      24.084919\n",
       "preta       3.221083\n",
       "amarela     0.219619\n",
       "Name: raca, dtype: float64"
      ]
     },
     "execution_count": 407,
     "metadata": {},
     "output_type": "execute_result"
    }
   ],
   "source": [
    "Hom_raca"
   ]
  },
  {
   "cell_type": "code",
   "execution_count": 265,
   "metadata": {},
   "outputs": [
    {
     "data": {
      "image/png": "[encoded data removed]",
      "text/plain": [
       "<Figure size 576x144 with 1 Axes>"
      ]
     },
     "metadata": {},
     "output_type": "display_data"
    }
   ],
   "source": [
    "f, ax = plt.subplots(figsize=(8, 2))\n",
    "\n",
    "colors = ['grey', 'purple','blue','yellow','red']\n",
    "\n",
    "ax.spines['top'].set_visible(False)\n",
    "ax.spines['right'].set_visible(False)\n",
    "ax.spines['bottom'].set_visible(False)\n",
    "ax.spines['left'].set_visible(False)\n",
    "\n",
    "\n",
    "ax.tick_params(axis='y', colors='gray')\n",
    "\n",
    "p1 = plt.barh(y='mulheres',\n",
    "        height=0.9,\n",
    "        width = Mul_raca.values[0],\n",
    "        color = colors[0])\n",
    "lefts = Mul_raca.values[0]\n",
    "\n",
    "p2 = plt.barh(y='mulheres',\n",
    "        height=0.9,\n",
    "        width = Mul_raca.values[1],\n",
    "        color = colors[1],\n",
    "        left = lefts)\n",
    "\n",
    "lefts = lefts + Mul_raca.values[1]\n",
    "\n",
    "p3 = plt.barh(y='mulheres',\n",
    "        height=0.9,\n",
    "        width = Mul_raca.values[2],\n",
    "        color = colors[2],\n",
    "        left = lefts)\n",
    "\n",
    "lefts = lefts + Mul_raca.values[2]\n",
    "\n",
    "p4 = plt.barh(y='mulheres',\n",
    "        height=0.9,\n",
    "        width = Mul_raca.values[3],\n",
    "        color = colors[3],\n",
    "        left = lefts)\n",
    "\n",
    "lefts = lefts + Mul_raca.values[3]\n",
    "\n",
    "\n",
    "p1 = plt.barh(y='homens',\n",
    "        height=0.9,\n",
    "        width = Hom_raca.values[0],\n",
    "        color = colors[0])\n",
    "lefts = Hom_raca.values[0]\n",
    "\n",
    "p2 = plt.barh(y='homens',\n",
    "        height=0.9,\n",
    "        width = Hom_raca.values[1],\n",
    "        color = colors[1],\n",
    "        left = lefts)\n",
    "\n",
    "lefts = lefts + Hom_raca.values[1]\n",
    "\n",
    "p3 = plt.barh(y='homens',\n",
    "        height=0.9,\n",
    "        width = Hom_raca.values[2],\n",
    "        color = colors[2],\n",
    "        left = lefts)\n",
    "\n",
    "lefts = lefts + Hom_raca.values[2]\n",
    "\n",
    "p4 = plt.barh(y='homens',\n",
    "        height=0.9,\n",
    "        width = Hom_raca.values[3],\n",
    "        color = colors[3],\n",
    "        left = lefts)\n",
    "\n",
    "lefts = lefts + Hom_raca.values[3]\n",
    "\n",
    "\n",
    "plt.title('Percentual de eleitos por raça', fontsize=12)\n",
    "plt.xlabel('')\n",
    "plt.show()"
   ]
  },
  {
   "cell_type": "code",
   "execution_count": 278,
   "metadata": {},
   "outputs": [
    {
     "data": {
      "text/plain": [
       "ensino superior completo         81.632653\n",
       "ensino medio completo            10.612245\n",
       "ensino superior incompleto        6.530612\n",
       "ensino fundamental completo       0.816327\n",
       "ensino fundamental incompleto     0.408163\n",
       "Name: instrucao, dtype: float64"
      ]
     },
     "execution_count": 278,
     "metadata": {},
     "output_type": "execute_result"
    }
   ],
   "source": [
    "Mul_instrucao"
   ]
  },
  {
   "cell_type": "code",
   "execution_count": 277,
   "metadata": {},
   "outputs": [
    {
     "data": {
      "text/plain": [
       "ensino superior completo         73.645681\n",
       "ensino medio completo            13.762811\n",
       "ensino superior incompleto        9.150805\n",
       "ensino fundamental completo       1.976574\n",
       "ensino fundamental incompleto     0.805271\n",
       "ensino medio incompleto           0.585652\n",
       "le e escreve                      0.073206\n",
       "Name: instrucao, dtype: float64"
      ]
     },
     "execution_count": 277,
     "metadata": {},
     "output_type": "execute_result"
    }
   ],
   "source": [
    "Hom_instrucao"
   ]
  },
  {
   "cell_type": "code",
   "execution_count": 432,
   "metadata": {},
   "outputs": [],
   "source": [
    "Mul_instrucao = (df_uni_mul['instrucao'].value_counts())*100/df_uni_mul.shape[0]\n",
    "Hom_instrucao = (df_uni_hom['instrucao'].value_counts())*100/df_uni_hom.shape[0]\n",
    "\n",
    "\n",
    "y_age = Hom_instrucao.index.values\n",
    "x_M = Hom_instrucao.values\n",
    "x_F = Mul_instrucao.values * -1"
   ]
  },
  {
   "cell_type": "code",
   "execution_count": 436,
   "metadata": {},
   "outputs": [
    {
     "ename": "ValueError",
     "evalue": "Invalid property specified for object of type plotly.graph_objs.Bar: 'height'\n\n    Valid properties:\n        alignmentgroup\n            Set several traces linked to the same position axis or\n            matching axes to the same alignmentgroup. This controls\n            whether bars compute their positional range dependently\n            or independently.\n        base\n            Sets where the bar base is drawn (in position axis\n            units). In \"stack\" or \"relative\" barmode, traces that\n            set \"base\" will be excluded and drawn in \"overlay\" mode\n            instead.\n        basesrc\n            Sets the source reference on Chart Studio Cloud for\n            base .\n        cliponaxis\n            Determines whether the text nodes are clipped about the\n            subplot axes. To show the text nodes above axis lines\n            and tick labels, make sure to set `xaxis.layer` and\n            `yaxis.layer` to *below traces*.\n        constraintext\n            Constrain the size of text inside or outside a bar to\n            be no larger than the bar itself.\n        customdata\n            Assigns extra data each datum. This may be useful when\n            listening to hover, click and selection events. Note\n            that, \"scatter\" traces also appends customdata items in\n            the markers DOM elements\n        customdatasrc\n            Sets the source reference on Chart Studio Cloud for\n            customdata .\n        dx\n            Sets the x coordinate step. See `x0` for more info.\n        dy\n            Sets the y coordinate step. See `y0` for more info.\n        error_x\n            :class:`plotly.graph_objects.bar.ErrorX` instance or\n            dict with compatible properties\n        error_y\n            :class:`plotly.graph_objects.bar.ErrorY` instance or\n            dict with compatible properties\n        hoverinfo\n            Determines which trace information appear on hover. If\n            `none` or `skip` are set, no information is displayed\n            upon hovering. But, if `none` is set, click and hover\n            events are still fired.\n        hoverinfosrc\n            Sets the source reference on Chart Studio Cloud for\n            hoverinfo .\n        hoverlabel\n            :class:`plotly.graph_objects.bar.Hoverlabel` instance\n            or dict with compatible properties\n        hovertemplate\n            Template string used for rendering the information that\n            appear on hover box. Note that this will override\n            `hoverinfo`. Variables are inserted using %{variable},\n            for example \"y: %{y}\". Numbers are formatted using\n            d3-format's syntax %{variable:d3-format}, for example\n            \"Price: %{y:$.2f}\". https://github.com/d3/d3-3.x-api-\n            reference/blob/master/Formatting.md#d3_format for\n            details on the formatting syntax. Dates are formatted\n            using d3-time-format's syntax %{variable|d3-time-\n            format}, for example \"Day: %{2019-01-01|%A}\".\n            https://github.com/d3/d3-3.x-api-\n            reference/blob/master/Time-Formatting.md#format for\n            details on the date formatting syntax. The variables\n            available in `hovertemplate` are the ones emitted as\n            event data described at this link\n            https://plotly.com/javascript/plotlyjs-events/#event-\n            data. Additionally, every attributes that can be\n            specified per-point (the ones that are `arrayOk: true`)\n            are available. variables `value` and `label`. Anything\n            contained in tag `<extra>` is displayed in the\n            secondary box, for example\n            \"<extra>{fullData.name}</extra>\". To hide the secondary\n            box completely, use an empty tag `<extra></extra>`.\n        hovertemplatesrc\n            Sets the source reference on Chart Studio Cloud for\n            hovertemplate .\n        hovertext\n            Sets hover text elements associated with each (x,y)\n            pair. If a single string, the same string appears over\n            all the data points. If an array of string, the items\n            are mapped in order to the this trace's (x,y)\n            coordinates. To be seen, trace `hoverinfo` must contain\n            a \"text\" flag.\n        hovertextsrc\n            Sets the source reference on Chart Studio Cloud for\n            hovertext .\n        ids\n            Assigns id labels to each datum. These ids for object\n            constancy of data points during animation. Should be an\n            array of strings, not numbers or any other type.\n        idssrc\n            Sets the source reference on Chart Studio Cloud for\n            ids .\n        insidetextanchor\n            Determines if texts are kept at center or start/end\n            points in `textposition` \"inside\" mode.\n        insidetextfont\n            Sets the font used for `text` lying inside the bar.\n        legendgroup\n            Sets the legend group for this trace. Traces part of\n            the same legend group hide/show at the same time when\n            toggling legend items.\n        marker\n            :class:`plotly.graph_objects.bar.Marker` instance or\n            dict with compatible properties\n        meta\n            Assigns extra meta information associated with this\n            trace that can be used in various text attributes.\n            Attributes such as trace `name`, graph, axis and\n            colorbar `title.text`, annotation `text`\n            `rangeselector`, `updatemenues` and `sliders` `label`\n            text all support `meta`. To access the trace `meta`\n            values in an attribute in the same trace, simply use\n            `%{meta[i]}` where `i` is the index or key of the\n            `meta` item in question. To access trace `meta` in\n            layout attributes, use `%{data[n[.meta[i]}` where `i`\n            is the index or key of the `meta` and `n` is the trace\n            index.\n        metasrc\n            Sets the source reference on Chart Studio Cloud for\n            meta .\n        name\n            Sets the trace name. The trace name appear as the\n            legend item and on hover.\n        offset\n            Shifts the position where the bar is drawn (in position\n            axis units). In \"group\" barmode, traces that set\n            \"offset\" will be excluded and drawn in \"overlay\" mode\n            instead.\n        offsetgroup\n            Set several traces linked to the same position axis or\n            matching axes to the same offsetgroup where bars of the\n            same position coordinate will line up.\n        offsetsrc\n            Sets the source reference on Chart Studio Cloud for\n            offset .\n        opacity\n            Sets the opacity of the trace.\n        orientation\n            Sets the orientation of the bars. With \"v\" (\"h\"), the\n            value of the each bar spans along the vertical\n            (horizontal).\n        outsidetextfont\n            Sets the font used for `text` lying outside the bar.\n        r\n            r coordinates in scatter traces are deprecated!Please\n            switch to the \"scatterpolar\" trace type.Sets the radial\n            coordinatesfor legacy polar chart only.\n        rsrc\n            Sets the source reference on Chart Studio Cloud for  r\n            .\n        selected\n            :class:`plotly.graph_objects.bar.Selected` instance or\n            dict with compatible properties\n        selectedpoints\n            Array containing integer indices of selected points.\n            Has an effect only for traces that support selections.\n            Note that an empty array means an empty selection where\n            the `unselected` are turned on for all points, whereas,\n            any other non-array values means no selection all where\n            the `selected` and `unselected` styles have no effect.\n        showlegend\n            Determines whether or not an item corresponding to this\n            trace is shown in the legend.\n        stream\n            :class:`plotly.graph_objects.bar.Stream` instance or\n            dict with compatible properties\n        t\n            t coordinates in scatter traces are deprecated!Please\n            switch to the \"scatterpolar\" trace type.Sets the\n            angular coordinatesfor legacy polar chart only.\n        text\n            Sets text elements associated with each (x,y) pair. If\n            a single string, the same string appears over all the\n            data points. If an array of string, the items are\n            mapped in order to the this trace's (x,y) coordinates.\n            If trace `hoverinfo` contains a \"text\" flag and\n            \"hovertext\" is not set, these elements will be seen in\n            the hover labels.\n        textangle\n            Sets the angle of the tick labels with respect to the\n            bar. For example, a `tickangle` of -90 draws the tick\n            labels vertically. With \"auto\" the texts may\n            automatically be rotated to fit with the maximum size\n            in bars.\n        textfont\n            Sets the font used for `text`.\n        textposition\n            Specifies the location of the `text`. \"inside\"\n            positions `text` inside, next to the bar end (rotated\n            and scaled if needed). \"outside\" positions `text`\n            outside, next to the bar end (scaled if needed), unless\n            there is another bar stacked on this one, then the text\n            gets pushed inside. \"auto\" tries to position `text`\n            inside the bar, but if the bar is too small and no bar\n            is stacked on this one the text is moved outside.\n        textpositionsrc\n            Sets the source reference on Chart Studio Cloud for\n            textposition .\n        textsrc\n            Sets the source reference on Chart Studio Cloud for\n            text .\n        texttemplate\n            Template string used for rendering the information text\n            that appear on points. Note that this will override\n            `textinfo`. Variables are inserted using %{variable},\n            for example \"y: %{y}\". Numbers are formatted using\n            d3-format's syntax %{variable:d3-format}, for example\n            \"Price: %{y:$.2f}\". https://github.com/d3/d3-3.x-api-\n            reference/blob/master/Formatting.md#d3_format for\n            details on the formatting syntax. Dates are formatted\n            using d3-time-format's syntax %{variable|d3-time-\n            format}, for example \"Day: %{2019-01-01|%A}\".\n            https://github.com/d3/d3-3.x-api-\n            reference/blob/master/Time-Formatting.md#format for\n            details on the date formatting syntax. Every attributes\n            that can be specified per-point (the ones that are\n            `arrayOk: true`) are available. variables `value` and\n            `label`.\n        texttemplatesrc\n            Sets the source reference on Chart Studio Cloud for\n            texttemplate .\n        tsrc\n            Sets the source reference on Chart Studio Cloud for  t\n            .\n        uid\n            Assign an id to this trace, Use this to provide object\n            constancy between traces during animations and\n            transitions.\n        uirevision\n            Controls persistence of some user-driven changes to the\n            trace: `constraintrange` in `parcoords` traces, as well\n            as some `editable: true` modifications such as `name`\n            and `colorbar.title`. Defaults to `layout.uirevision`.\n            Note that other user-driven trace attribute changes are\n            controlled by `layout` attributes: `trace.visible` is\n            controlled by `layout.legend.uirevision`,\n            `selectedpoints` is controlled by\n            `layout.selectionrevision`, and `colorbar.(x|y)`\n            (accessible with `config: {editable: true}`) is\n            controlled by `layout.editrevision`. Trace changes are\n            tracked by `uid`, which only falls back on trace index\n            if no `uid` is provided. So if your app can add/remove\n            traces before the end of the `data` array, such that\n            the same trace has a different index, you can still\n            preserve user-driven changes if you give each trace a\n            `uid` that stays with it as it moves.\n        unselected\n            :class:`plotly.graph_objects.bar.Unselected` instance\n            or dict with compatible properties\n        visible\n            Determines whether or not this trace is visible. If\n            \"legendonly\", the trace is not drawn, but can appear as\n            a legend item (provided that the legend itself is\n            visible).\n        width\n            Sets the bar width (in position axis units).\n        widthsrc\n            Sets the source reference on Chart Studio Cloud for\n            width .\n        x\n            Sets the x coordinates.\n        x0\n            Alternate to `x`. Builds a linear space of x\n            coordinates. Use with `dx` where `x0` is the starting\n            coordinate and `dx` the step.\n        xaxis\n            Sets a reference between this trace's x coordinates and\n            a 2D cartesian x axis. If \"x\" (the default value), the\n            x coordinates refer to `layout.xaxis`. If \"x2\", the x\n            coordinates refer to `layout.xaxis2`, and so on.\n        xcalendar\n            Sets the calendar system to use with `x` date data.\n        xsrc\n            Sets the source reference on Chart Studio Cloud for  x\n            .\n        y\n            Sets the y coordinates.\n        y0\n            Alternate to `y`. Builds a linear space of y\n            coordinates. Use with `dy` where `y0` is the starting\n            coordinate and `dy` the step.\n        yaxis\n            Sets a reference between this trace's y coordinates and\n            a 2D cartesian y axis. If \"y\" (the default value), the\n            y coordinates refer to `layout.yaxis`. If \"y2\", the y\n            coordinates refer to `layout.yaxis2`, and so on.\n        ycalendar\n            Sets the calendar system to use with `y` date data.\n        ysrc\n            Sets the source reference on Chart Studio Cloud for  y\n            .\n        ",
     "output_type": "error",
     "traceback": [
      "\u001b[1;31m---------------------------------------------------------------------------\u001b[0m",
      "\u001b[1;31mValueError\u001b[0m                                Traceback (most recent call last)",
      "\u001b[1;32m<ipython-input-436-e420a4fee554>\u001b[0m in \u001b[0;36m<module>\u001b[1;34m\u001b[0m\n\u001b[0;32m      5\u001b[0m                      \u001b[0mname\u001b[0m \u001b[1;33m=\u001b[0m \u001b[1;34m'Male'\u001b[0m\u001b[1;33m,\u001b[0m\u001b[1;33m\u001b[0m\u001b[1;33m\u001b[0m\u001b[0m\n\u001b[0;32m      6\u001b[0m                      \u001b[0mheight\u001b[0m\u001b[1;33m=\u001b[0m\u001b[1;36m0.9\u001b[0m\u001b[1;33m,\u001b[0m\u001b[1;33m\u001b[0m\u001b[1;33m\u001b[0m\u001b[0m\n\u001b[1;32m----> 7\u001b[1;33m                      orientation = 'h'))\n\u001b[0m\u001b[0;32m      8\u001b[0m \u001b[1;33m\u001b[0m\u001b[0m\n\u001b[0;32m      9\u001b[0m \u001b[1;31m# Adding Female data to the figure\u001b[0m\u001b[1;33m\u001b[0m\u001b[1;33m\u001b[0m\u001b[1;33m\u001b[0m\u001b[0m\n",
      "\u001b[1;32m~\\anaconda3\\lib\\site-packages\\plotly\\graph_objs\\_bar.py\u001b[0m in \u001b[0;36m__init__\u001b[1;34m(self, arg, alignmentgroup, base, basesrc, cliponaxis, constraintext, customdata, customdatasrc, dx, dy, error_x, error_y, hoverinfo, hoverinfosrc, hoverlabel, hovertemplate, hovertemplatesrc, hovertext, hovertextsrc, ids, idssrc, insidetextanchor, insidetextfont, legendgroup, marker, meta, metasrc, name, offset, offsetgroup, offsetsrc, opacity, orientation, outsidetextfont, r, rsrc, selected, selectedpoints, showlegend, stream, t, text, textangle, textfont, textposition, textpositionsrc, textsrc, texttemplate, texttemplatesrc, tsrc, uid, uirevision, unselected, visible, width, widthsrc, x, x0, xaxis, xcalendar, xsrc, y, y0, yaxis, ycalendar, ysrc, **kwargs)\u001b[0m\n\u001b[0;32m   2923\u001b[0m         \u001b[1;31m# Process unknown kwargs\u001b[0m\u001b[1;33m\u001b[0m\u001b[1;33m\u001b[0m\u001b[1;33m\u001b[0m\u001b[0m\n\u001b[0;32m   2924\u001b[0m         \u001b[1;31m# ----------------------\u001b[0m\u001b[1;33m\u001b[0m\u001b[1;33m\u001b[0m\u001b[1;33m\u001b[0m\u001b[0m\n\u001b[1;32m-> 2925\u001b[1;33m         \u001b[0mself\u001b[0m\u001b[1;33m.\u001b[0m\u001b[0m_process_kwargs\u001b[0m\u001b[1;33m(\u001b[0m\u001b[1;33m**\u001b[0m\u001b[0mdict\u001b[0m\u001b[1;33m(\u001b[0m\u001b[0marg\u001b[0m\u001b[1;33m,\u001b[0m \u001b[1;33m**\u001b[0m\u001b[0mkwargs\u001b[0m\u001b[1;33m)\u001b[0m\u001b[1;33m)\u001b[0m\u001b[1;33m\u001b[0m\u001b[1;33m\u001b[0m\u001b[0m\n\u001b[0m\u001b[0;32m   2926\u001b[0m \u001b[1;33m\u001b[0m\u001b[0m\n\u001b[0;32m   2927\u001b[0m         \u001b[1;31m# Reset skip_invalid\u001b[0m\u001b[1;33m\u001b[0m\u001b[1;33m\u001b[0m\u001b[1;33m\u001b[0m\u001b[0m\n",
      "\u001b[1;32m~\\anaconda3\\lib\\site-packages\\plotly\\basedatatypes.py\u001b[0m in \u001b[0;36m_process_kwargs\u001b[1;34m(self, **kwargs)\u001b[0m\n\u001b[0;32m   3460\u001b[0m \u001b[1;33m\u001b[0m\u001b[0m\n\u001b[0;32m   3461\u001b[0m         \u001b[1;32mif\u001b[0m \u001b[0minvalid_kwargs\u001b[0m \u001b[1;32mand\u001b[0m \u001b[1;32mnot\u001b[0m \u001b[0mself\u001b[0m\u001b[1;33m.\u001b[0m\u001b[0m_skip_invalid\u001b[0m\u001b[1;33m:\u001b[0m\u001b[1;33m\u001b[0m\u001b[1;33m\u001b[0m\u001b[0m\n\u001b[1;32m-> 3462\u001b[1;33m             \u001b[0mself\u001b[0m\u001b[1;33m.\u001b[0m\u001b[0m_raise_on_invalid_property_error\u001b[0m\u001b[1;33m(\u001b[0m\u001b[1;33m*\u001b[0m\u001b[0minvalid_kwargs\u001b[0m\u001b[1;33m.\u001b[0m\u001b[0mkeys\u001b[0m\u001b[1;33m(\u001b[0m\u001b[1;33m)\u001b[0m\u001b[1;33m)\u001b[0m\u001b[1;33m\u001b[0m\u001b[1;33m\u001b[0m\u001b[0m\n\u001b[0m\u001b[0;32m   3463\u001b[0m \u001b[1;33m\u001b[0m\u001b[0m\n\u001b[0;32m   3464\u001b[0m     \u001b[1;33m@\u001b[0m\u001b[0mproperty\u001b[0m\u001b[1;33m\u001b[0m\u001b[1;33m\u001b[0m\u001b[0m\n",
      "\u001b[1;32m~\\anaconda3\\lib\\site-packages\\plotly\\basedatatypes.py\u001b[0m in \u001b[0;36m_raise_on_invalid_property_error\u001b[1;34m(self, *args)\u001b[0m\n\u001b[0;32m   4136\u001b[0m                     \u001b[0mfull_obj_name\u001b[0m\u001b[1;33m=\u001b[0m\u001b[0mfull_obj_name\u001b[0m\u001b[1;33m,\u001b[0m\u001b[1;33m\u001b[0m\u001b[1;33m\u001b[0m\u001b[0m\n\u001b[0;32m   4137\u001b[0m                     \u001b[0minvalid_str\u001b[0m\u001b[1;33m=\u001b[0m\u001b[0minvalid_str\u001b[0m\u001b[1;33m,\u001b[0m\u001b[1;33m\u001b[0m\u001b[1;33m\u001b[0m\u001b[0m\n\u001b[1;32m-> 4138\u001b[1;33m                     \u001b[0mprop_descriptions\u001b[0m\u001b[1;33m=\u001b[0m\u001b[0mself\u001b[0m\u001b[1;33m.\u001b[0m\u001b[0m_prop_descriptions\u001b[0m\u001b[1;33m,\u001b[0m\u001b[1;33m\u001b[0m\u001b[1;33m\u001b[0m\u001b[0m\n\u001b[0m\u001b[0;32m   4139\u001b[0m                 )\n\u001b[0;32m   4140\u001b[0m             )\n",
      "\u001b[1;31mValueError\u001b[0m: Invalid property specified for object of type plotly.graph_objs.Bar: 'height'\n\n    Valid properties:\n        alignmentgroup\n            Set several traces linked to the same position axis or\n            matching axes to the same alignmentgroup. This controls\n            whether bars compute their positional range dependently\n            or independently.\n        base\n            Sets where the bar base is drawn (in position axis\n            units). In \"stack\" or \"relative\" barmode, traces that\n            set \"base\" will be excluded and drawn in \"overlay\" mode\n            instead.\n        basesrc\n            Sets the source reference on Chart Studio Cloud for\n            base .\n        cliponaxis\n            Determines whether the text nodes are clipped about the\n            subplot axes. To show the text nodes above axis lines\n            and tick labels, make sure to set `xaxis.layer` and\n            `yaxis.layer` to *below traces*.\n        constraintext\n            Constrain the size of text inside or outside a bar to\n            be no larger than the bar itself.\n        customdata\n            Assigns extra data each datum. This may be useful when\n            listening to hover, click and selection events. Note\n            that, \"scatter\" traces also appends customdata items in\n            the markers DOM elements\n        customdatasrc\n            Sets the source reference on Chart Studio Cloud for\n            customdata .\n        dx\n            Sets the x coordinate step. See `x0` for more info.\n        dy\n            Sets the y coordinate step. See `y0` for more info.\n        error_x\n            :class:`plotly.graph_objects.bar.ErrorX` instance or\n            dict with compatible properties\n        error_y\n            :class:`plotly.graph_objects.bar.ErrorY` instance or\n            dict with compatible properties\n        hoverinfo\n            Determines which trace information appear on hover. If\n            `none` or `skip` are set, no information is displayed\n            upon hovering. But, if `none` is set, click and hover\n            events are still fired.\n        hoverinfosrc\n            Sets the source reference on Chart Studio Cloud for\n            hoverinfo .\n        hoverlabel\n            :class:`plotly.graph_objects.bar.Hoverlabel` instance\n            or dict with compatible properties\n        hovertemplate\n            Template string used for rendering the information that\n            appear on hover box. Note that this will override\n            `hoverinfo`. Variables are inserted using %{variable},\n            for example \"y: %{y}\". Numbers are formatted using\n            d3-format's syntax %{variable:d3-format}, for example\n            \"Price: %{y:$.2f}\". https://github.com/d3/d3-3.x-api-\n            reference/blob/master/Formatting.md#d3_format for\n            details on the formatting syntax. Dates are formatted\n            using d3-time-format's syntax %{variable|d3-time-\n            format}, for example \"Day: %{2019-01-01|%A}\".\n            https://github.com/d3/d3-3.x-api-\n            reference/blob/master/Time-Formatting.md#format for\n            details on the date formatting syntax. The variables\n            available in `hovertemplate` are the ones emitted as\n            event data described at this link\n            https://plotly.com/javascript/plotlyjs-events/#event-\n            data. Additionally, every attributes that can be\n            specified per-point (the ones that are `arrayOk: true`)\n            are available. variables `value` and `label`. Anything\n            contained in tag `<extra>` is displayed in the\n            secondary box, for example\n            \"<extra>{fullData.name}</extra>\". To hide the secondary\n            box completely, use an empty tag `<extra></extra>`.\n        hovertemplatesrc\n            Sets the source reference on Chart Studio Cloud for\n            hovertemplate .\n        hovertext\n            Sets hover text elements associated with each (x,y)\n            pair. If a single string, the same string appears over\n            all the data points. If an array of string, the items\n            are mapped in order to the this trace's (x,y)\n            coordinates. To be seen, trace `hoverinfo` must contain\n            a \"text\" flag.\n        hovertextsrc\n            Sets the source reference on Chart Studio Cloud for\n            hovertext .\n        ids\n            Assigns id labels to each datum. These ids for object\n            constancy of data points during animation. Should be an\n            array of strings, not numbers or any other type.\n        idssrc\n            Sets the source reference on Chart Studio Cloud for\n            ids .\n        insidetextanchor\n            Determines if texts are kept at center or start/end\n            points in `textposition` \"inside\" mode.\n        insidetextfont\n            Sets the font used for `text` lying inside the bar.\n        legendgroup\n            Sets the legend group for this trace. Traces part of\n            the same legend group hide/show at the same time when\n            toggling legend items.\n        marker\n            :class:`plotly.graph_objects.bar.Marker` instance or\n            dict with compatible properties\n        meta\n            Assigns extra meta information associated with this\n            trace that can be used in various text attributes.\n            Attributes such as trace `name`, graph, axis and\n            colorbar `title.text`, annotation `text`\n            `rangeselector`, `updatemenues` and `sliders` `label`\n            text all support `meta`. To access the trace `meta`\n            values in an attribute in the same trace, simply use\n            `%{meta[i]}` where `i` is the index or key of the\n            `meta` item in question. To access trace `meta` in\n            layout attributes, use `%{data[n[.meta[i]}` where `i`\n            is the index or key of the `meta` and `n` is the trace\n            index.\n        metasrc\n            Sets the source reference on Chart Studio Cloud for\n            meta .\n        name\n            Sets the trace name. The trace name appear as the\n            legend item and on hover.\n        offset\n            Shifts the position where the bar is drawn (in position\n            axis units). In \"group\" barmode, traces that set\n            \"offset\" will be excluded and drawn in \"overlay\" mode\n            instead.\n        offsetgroup\n            Set several traces linked to the same position axis or\n            matching axes to the same offsetgroup where bars of the\n            same position coordinate will line up.\n        offsetsrc\n            Sets the source reference on Chart Studio Cloud for\n            offset .\n        opacity\n            Sets the opacity of the trace.\n        orientation\n            Sets the orientation of the bars. With \"v\" (\"h\"), the\n            value of the each bar spans along the vertical\n            (horizontal).\n        outsidetextfont\n            Sets the font used for `text` lying outside the bar.\n        r\n            r coordinates in scatter traces are deprecated!Please\n            switch to the \"scatterpolar\" trace type.Sets the radial\n            coordinatesfor legacy polar chart only.\n        rsrc\n            Sets the source reference on Chart Studio Cloud for  r\n            .\n        selected\n            :class:`plotly.graph_objects.bar.Selected` instance or\n            dict with compatible properties\n        selectedpoints\n            Array containing integer indices of selected points.\n            Has an effect only for traces that support selections.\n            Note that an empty array means an empty selection where\n            the `unselected` are turned on for all points, whereas,\n            any other non-array values means no selection all where\n            the `selected` and `unselected` styles have no effect.\n        showlegend\n            Determines whether or not an item corresponding to this\n            trace is shown in the legend.\n        stream\n            :class:`plotly.graph_objects.bar.Stream` instance or\n            dict with compatible properties\n        t\n            t coordinates in scatter traces are deprecated!Please\n            switch to the \"scatterpolar\" trace type.Sets the\n            angular coordinatesfor legacy polar chart only.\n        text\n            Sets text elements associated with each (x,y) pair. If\n            a single string, the same string appears over all the\n            data points. If an array of string, the items are\n            mapped in order to the this trace's (x,y) coordinates.\n            If trace `hoverinfo` contains a \"text\" flag and\n            \"hovertext\" is not set, these elements will be seen in\n            the hover labels.\n        textangle\n            Sets the angle of the tick labels with respect to the\n            bar. For example, a `tickangle` of -90 draws the tick\n            labels vertically. With \"auto\" the texts may\n            automatically be rotated to fit with the maximum size\n            in bars.\n        textfont\n            Sets the font used for `text`.\n        textposition\n            Specifies the location of the `text`. \"inside\"\n            positions `text` inside, next to the bar end (rotated\n            and scaled if needed). \"outside\" positions `text`\n            outside, next to the bar end (scaled if needed), unless\n            there is another bar stacked on this one, then the text\n            gets pushed inside. \"auto\" tries to position `text`\n            inside the bar, but if the bar is too small and no bar\n            is stacked on this one the text is moved outside.\n        textpositionsrc\n            Sets the source reference on Chart Studio Cloud for\n            textposition .\n        textsrc\n            Sets the source reference on Chart Studio Cloud for\n            text .\n        texttemplate\n            Template string used for rendering the information text\n            that appear on points. Note that this will override\n            `textinfo`. Variables are inserted using %{variable},\n            for example \"y: %{y}\". Numbers are formatted using\n            d3-format's syntax %{variable:d3-format}, for example\n            \"Price: %{y:$.2f}\". https://github.com/d3/d3-3.x-api-\n            reference/blob/master/Formatting.md#d3_format for\n            details on the formatting syntax. Dates are formatted\n            using d3-time-format's syntax %{variable|d3-time-\n            format}, for example \"Day: %{2019-01-01|%A}\".\n            https://github.com/d3/d3-3.x-api-\n            reference/blob/master/Time-Formatting.md#format for\n            details on the date formatting syntax. Every attributes\n            that can be specified per-point (the ones that are\n            `arrayOk: true`) are available. variables `value` and\n            `label`.\n        texttemplatesrc\n            Sets the source reference on Chart Studio Cloud for\n            texttemplate .\n        tsrc\n            Sets the source reference on Chart Studio Cloud for  t\n            .\n        uid\n            Assign an id to this trace, Use this to provide object\n            constancy between traces during animations and\n            transitions.\n        uirevision\n            Controls persistence of some user-driven changes to the\n            trace: `constraintrange` in `parcoords` traces, as well\n            as some `editable: true` modifications such as `name`\n            and `colorbar.title`. Defaults to `layout.uirevision`.\n            Note that other user-driven trace attribute changes are\n            controlled by `layout` attributes: `trace.visible` is\n            controlled by `layout.legend.uirevision`,\n            `selectedpoints` is controlled by\n            `layout.selectionrevision`, and `colorbar.(x|y)`\n            (accessible with `config: {editable: true}`) is\n            controlled by `layout.editrevision`. Trace changes are\n            tracked by `uid`, which only falls back on trace index\n            if no `uid` is provided. So if your app can add/remove\n            traces before the end of the `data` array, such that\n            the same trace has a different index, you can still\n            preserve user-driven changes if you give each trace a\n            `uid` that stays with it as it moves.\n        unselected\n            :class:`plotly.graph_objects.bar.Unselected` instance\n            or dict with compatible properties\n        visible\n            Determines whether or not this trace is visible. If\n            \"legendonly\", the trace is not drawn, but can appear as\n            a legend item (provided that the legend itself is\n            visible).\n        width\n            Sets the bar width (in position axis units).\n        widthsrc\n            Sets the source reference on Chart Studio Cloud for\n            width .\n        x\n            Sets the x coordinates.\n        x0\n            Alternate to `x`. Builds a linear space of x\n            coordinates. Use with `dx` where `x0` is the starting\n            coordinate and `dx` the step.\n        xaxis\n            Sets a reference between this trace's x coordinates and\n            a 2D cartesian x axis. If \"x\" (the default value), the\n            x coordinates refer to `layout.xaxis`. If \"x2\", the x\n            coordinates refer to `layout.xaxis2`, and so on.\n        xcalendar\n            Sets the calendar system to use with `x` date data.\n        xsrc\n            Sets the source reference on Chart Studio Cloud for  x\n            .\n        y\n            Sets the y coordinates.\n        y0\n            Alternate to `y`. Builds a linear space of y\n            coordinates. Use with `dy` where `y0` is the starting\n            coordinate and `dy` the step.\n        yaxis\n            Sets a reference between this trace's y coordinates and\n            a 2D cartesian y axis. If \"y\" (the default value), the\n            y coordinates refer to `layout.yaxis`. If \"y2\", the y\n            coordinates refer to `layout.yaxis2`, and so on.\n        ycalendar\n            Sets the calendar system to use with `y` date data.\n        ysrc\n            Sets the source reference on Chart Studio Cloud for  y\n            .\n        "
     ]
    }
   ],
   "source": [
    "fig = gp.Figure()\n",
    "  \n",
    "# Adding Male data to the figure\n",
    "fig.add_trace(gp.Bar(y= y_age, x = x_M, \n",
    "                     name = 'Male',\n",
    "                     orientation = 'h'))\n",
    "  \n",
    "# Adding Female data to the figure\n",
    "fig.add_trace(gp.Bar(y = y_age, x = x_F,\n",
    "                     name = 'Female', orientation = 'h'))\n",
    "  \n",
    "# Updating the layout for our graph\n",
    "fig.update_layout(title = 'Population Pyramid of India-2019',\n",
    "                 title_font_size = 22, barmode = 'relative',\n",
    "                 bargap = 0.0, bargroupgap = 0,\n",
    "                 xaxis = dict(tickvals = [-60000000, -40000000, -20000000,\n",
    "                                          0, 20000000, 40000000, 60000000],\n",
    "                                \n",
    "                              ticktext = ['6M', '4M', '2M', '0', \n",
    "                                          '2M', '4M', '6M'],\n",
    "                                \n",
    "                              title = 'Population in Millions',\n",
    "                              title_font_size = 14)\n",
    "                 )\n",
    "  \n",
    "fig.show()"
   ]
  },
  {
   "cell_type": "code",
   "execution_count": 270,
   "metadata": {},
   "outputs": [
    {
     "data": {
      "image/png": "[encoded data removed]",
      "text/plain": [
       "<Figure size 576x144 with 1 Axes>"
      ]
     },
     "metadata": {},
     "output_type": "display_data"
    }
   ],
   "source": [
    "\n",
    "f, ax = plt.subplots(figsize=(8, 2))\n",
    "\n",
    "colors = ['grey','purple','blue','yellow','red']\n",
    "\n",
    "ax.spines['top'].set_visible(False)\n",
    "ax.spines['right'].set_visible(False)\n",
    "ax.spines['bottom'].set_visible(False)\n",
    "ax.spines['left'].set_visible(False)\n",
    "\n",
    "\n",
    "ax.tick_params(axis='y', colors='gray')\n",
    "\n",
    "p1 = plt.barh(y='mulheres',\n",
    "        height=0.9,\n",
    "        width = Mul_instrucao.values[0],\n",
    "        color = colors[0])\n",
    "lefts = Mul_instrucao.values[0]\n",
    "\n",
    "p2 = plt.barh(y='mulheres',\n",
    "        height=0.9,\n",
    "        width = Mul_instrucao.values[1],\n",
    "        color = colors[1],\n",
    "        left = lefts)\n",
    "\n",
    "lefts = lefts + Mul_instrucao.values[1]\n",
    "\n",
    "p3 = plt.barh(y='mulheres',\n",
    "        height=0.9,\n",
    "        width = Mul_instrucao.values[2],\n",
    "        color = colors[2],\n",
    "        left = lefts)\n",
    "\n",
    "lefts = lefts + Mul_instrucao.values[2]\n",
    "\n",
    "p4 = plt.barh(y='mulheres',\n",
    "        height=0.9,\n",
    "        width = Mul_instrucao.values[3],\n",
    "        color = colors[3],\n",
    "        left = lefts)\n",
    "\n",
    "lefts = lefts + Mul_instrucao.values[3]\n",
    "\n",
    "\n",
    "p1 = plt.barh(y='homens',\n",
    "        height=0.9,\n",
    "        width = Hom_instrucao.values[0],\n",
    "        color = colors[0])\n",
    "lefts = Hom_instrucao.values[0]\n",
    "\n",
    "p2 = plt.barh(y='homens',\n",
    "        height=0.9,\n",
    "        width = Hom_instrucao.values[1],\n",
    "        color = colors[1],\n",
    "        left = lefts)\n",
    "\n",
    "lefts = lefts + Hom_instrucao.values[1]\n",
    "\n",
    "p3 = plt.barh(y='homens',\n",
    "        height=0.9,\n",
    "        width = Hom_instrucao.values[2],\n",
    "        color = colors[2],\n",
    "        left = lefts)\n",
    "\n",
    "lefts = lefts + Hom_instrucao.values[2]\n",
    "\n",
    "p4 = plt.barh(y='homens',\n",
    "        height=0.9,\n",
    "        width = Hom_instrucao.values[3],\n",
    "        color = colors[3],\n",
    "        left = lefts)\n",
    "\n",
    "lefts = lefts + Hom_instrucao.values[3]\n",
    "\n",
    "\n",
    "plt.title('Percentual de eleitos por instrução', fontsize=12)\n",
    "plt.xlabel('')\n",
    "plt.show()"
   ]
  },
  {
   "cell_type": "code",
   "execution_count": null,
   "metadata": {},
   "outputs": [],
   "source": [
    "estado_civil"
   ]
  },
  {
   "cell_type": "code",
   "execution_count": 273,
   "metadata": {},
   "outputs": [
    {
     "data": {
      "image/png": "[encoded data removed]",
      "text/plain": [
       "<Figure size 576x144 with 1 Axes>"
      ]
     },
     "metadata": {},
     "output_type": "display_data"
    }
   ],
   "source": [
    "Mul_estado_civil = (df_uni_mul['estado_civil'].value_counts())*100/df_uni_mul.shape[0]\n",
    "Hom_estado_civil = (df_uni_hom['estado_civil'].value_counts())*100/df_uni_hom.shape[0]\n",
    "\n",
    "f, ax = plt.subplots(figsize=(8, 2))\n",
    "\n",
    "colors = ['grey', 'purple','blue','yellow','red']\n",
    "\n",
    "ax.spines['top'].set_visible(False)\n",
    "ax.spines['right'].set_visible(False)\n",
    "ax.spines['bottom'].set_visible(False)\n",
    "ax.spines['left'].set_visible(False)\n",
    "\n",
    "\n",
    "ax.tick_params(axis='y', colors='gray')\n",
    "\n",
    "p1 = plt.barh(y='mulheres',\n",
    "        height=0.9,\n",
    "        width = Mul_estado_civil.values[0],\n",
    "        color = colors[0])\n",
    "lefts = Mul_estado_civil.values[0]\n",
    "\n",
    "p2 = plt.barh(y='mulheres',\n",
    "        height=0.9,\n",
    "        width = Mul_estado_civil.values[1],\n",
    "        color = colors[1],\n",
    "        left = lefts)\n",
    "\n",
    "lefts = lefts + Mul_estado_civil.values[1]\n",
    "\n",
    "p3 = plt.barh(y='mulheres',\n",
    "        height=0.9,\n",
    "        width = Mul_estado_civil.values[2],\n",
    "        color = colors[2],\n",
    "        left = lefts)\n",
    "\n",
    "lefts = lefts + Mul_estado_civil.values[2]\n",
    "\n",
    "p4 = plt.barh(y='mulheres',\n",
    "        height=0.9,\n",
    "        width = Mul_estado_civil.values[3],\n",
    "        color = colors[3],\n",
    "        left = lefts)\n",
    "\n",
    "lefts = lefts + Mul_estado_civil.values[3]\n",
    "\n",
    "\n",
    "p1 = plt.barh(y='homens',\n",
    "        height=0.9,\n",
    "        width = Hom_estado_civil.values[0],\n",
    "        color = colors[0])\n",
    "lefts = Hom_estado_civil.values[0]\n",
    "\n",
    "p2 = plt.barh(y='homens',\n",
    "        height=0.9,\n",
    "        width = Hom_estado_civil.values[1],\n",
    "        color = colors[1],\n",
    "        left = lefts)\n",
    "\n",
    "lefts = lefts + Hom_estado_civil.values[1]\n",
    "\n",
    "p3 = plt.barh(y='homens',\n",
    "        height=0.9,\n",
    "        width = Hom_estado_civil.values[2],\n",
    "        color = colors[2],\n",
    "        left = lefts)\n",
    "\n",
    "lefts = lefts + Hom_estado_civil.values[2]\n",
    "\n",
    "p4 = plt.barh(y='homens',\n",
    "        height=0.9,\n",
    "        width = Hom_estado_civil.values[3],\n",
    "        color = colors[3],\n",
    "        left = lefts)\n",
    "\n",
    "lefts = lefts + Hom_estado_civil.values[3]\n",
    "\n",
    "\n",
    "plt.title('Percentual de eleitos por instrução', fontsize=12)\n",
    "plt.xlabel('')\n",
    "\n",
    "plt.show()"
   ]
  },
  {
   "cell_type": "code",
   "execution_count": 394,
   "metadata": {},
   "outputs": [
    {
     "data": {
      "text/plain": [
       "casado(a)        64.489796\n",
       "solteiro(a)      23.265306\n",
       "divorciado(a)     8.571429\n",
       "viuvo(a)          3.673469\n",
       "Name: estado_civil, dtype: float64"
      ]
     },
     "execution_count": 394,
     "metadata": {},
     "output_type": "execute_result"
    }
   ],
   "source": [
    "Mul_estado_civil"
   ]
  },
  {
   "cell_type": "code",
   "execution_count": 395,
   "metadata": {},
   "outputs": [],
   "source": [
    "Mul_idade = (df_uni_mul['idade'].value_counts())*100/df_uni_mul.shape[0]"
   ]
  },
  {
   "cell_type": "code",
   "execution_count": 396,
   "metadata": {},
   "outputs": [],
   "source": [
    "testdata = df_uni[['genero','idade']]"
   ]
  },
  {
   "cell_type": "code",
   "execution_count": 397,
   "metadata": {},
   "outputs": [],
   "source": []
  },
  {
   "cell_type": "code",
   "execution_count": 398,
   "metadata": {},
   "outputs": [],
   "source": [
    "ranges = [20,30,40,50,60,70,80,90]\n",
    "\n",
    "mas =  testdata['genero'] == 'masculino'\n",
    "testdatamas = testdata[mas][['idade']]\n",
    "testdatamas = testdatamas.groupby(pd.cut(testdatamas.idade,\n",
    "                           ranges)).count() * 100 / df_uni_hom.shape[0]\n",
    "\n",
    "fem = testdata['genero'] == 'feminino'\n",
    "testdatafem = testdata[fem][['idade']]\n",
    "testdatafem = testdatafem.groupby(pd.cut(testdatafem.idade,\n",
    "                           ranges)).count() * 100 / df_uni_mul.shape[0]\n",
    "\n",
    "y_label_idade = [ \"(20, 30]\", \"(30, 40]\", \"(40, 50]\", \"(50, 60]\", \"(60, 70]\", \"(70, 80]\", \"(80, 90]\"]"
   ]
  },
  {
   "cell_type": "code",
   "execution_count": 423,
   "metadata": {},
   "outputs": [
    {
     "data": {
      "text/plain": [
       "Text(0.5, 1.0, 'Observa-se que apesar da pequena diferença percentual em todas as faixas, as mulheres tem uma maior proporção\\n nas faixas mais jovens (20,50) e os homens tem maior proporção nas faixas mais velhas (50,80)')"
      ]
     },
     "execution_count": 423,
     "metadata": {},
     "output_type": "execute_result"
    },
    {
     "data": {
      "image/png": "[encoded data removed]",
      "text/plain": [
       "<Figure size 576x576 with 1 Axes>"
      ]
     },
     "metadata": {
      "needs_background": "light"
     },
     "output_type": "display_data"
    }
   ],
   "source": [
    "f, ax = plt.subplots(figsize=(8, 8))\n",
    "\n",
    "ax.spines['top'].set_visible(False)\n",
    "ax.spines['right'].set_visible(False)\n",
    "ax.spines['bottom'].set_visible(False)\n",
    "ax.spines['left'].set_visible(False)\n",
    "\n",
    "\n",
    "p23 = plt.barh(y=y_label_idade,\n",
    "               height=0.45,\n",
    "               width=testdatamas['idade'].values,\n",
    "               align='edge',\n",
    "               color='gray')\n",
    "\n",
    "p23 = plt.barh(y=y_label_idade,\n",
    "               height=-0.45,\n",
    "               width=testdatafem['idade'].values,\n",
    "               align='edge',\n",
    "               color=colors[1])\n",
    "plt.suptitle('Percentual de eleitos por faixa etária', fontsize=16)\n",
    "plt.title('Observa-se que apesar da pequena diferença percentual em todas as faixas, as mulheres tem uma maior proporção\\n nas faixas mais jovens (20,50) e os homens tem maior proporção nas faixas mais velhas (50,80)', fontsize=8)\n",
    "\n",
    "\n"
   ]
  },
  {
   "cell_type": "code",
   "execution_count": 424,
   "metadata": {},
   "outputs": [],
   "source": [
    "ranges = [20,50,90]\n",
    "\n",
    "mas =  testdata['genero'] == 'masculino'\n",
    "testdatamas = testdata[mas][['idade']]\n",
    "testdatamas = testdatamas.groupby(pd.cut(testdatamas.idade,\n",
    "                           ranges)).count() * 100 / df_uni_hom.shape[0]\n",
    "\n",
    "fem = testdata['genero'] == 'feminino'\n",
    "testdatafem = testdata[fem][['idade']]\n",
    "testdatafem = testdatafem.groupby(pd.cut(testdatafem.idade,\n",
    "                           ranges)).count() * 100 / df_uni_mul.shape[0]\n",
    "\n",
    "y_label_idade = [ \"(20, 50]\", \"(50, 90]\"]"
   ]
  },
  {
   "cell_type": "code",
   "execution_count": 427,
   "metadata": {},
   "outputs": [
    {
     "data": {
      "text/plain": [
       "Text(0.5, 0.98, 'Percentual de eleitos por faixa etária')"
      ]
     },
     "execution_count": 427,
     "metadata": {},
     "output_type": "execute_result"
    },
    {
     "data": {
      "image/png": "[encoded data removed]",
      "text/plain": [
       "<Figure size 576x288 with 1 Axes>"
      ]
     },
     "metadata": {
      "needs_background": "light"
     },
     "output_type": "display_data"
    }
   ],
   "source": [
    "f, ax = plt.subplots(figsize=(8, 4))\n",
    "\n",
    "ax.spines['top'].set_visible(False)\n",
    "ax.spines['right'].set_visible(False)\n",
    "ax.spines['bottom'].set_visible(False)\n",
    "ax.spines['left'].set_visible(False)\n",
    "\n",
    "\n",
    "p23 = plt.barh(y=y_label_idade,\n",
    "               height=0.45,\n",
    "               width=testdatamas['idade'].values,\n",
    "               align='edge',\n",
    "               color='gray')\n",
    "\n",
    "p23 = plt.barh(y=y_label_idade,\n",
    "               height=-0.45,\n",
    "               width=testdatafem['idade'].values,\n",
    "               align='edge',\n",
    "               color=colors[1])\n",
    "plt.suptitle('Percentual de eleitos por faixa etária', fontsize=16)\n",
    "\n"
   ]
  },
  {
   "cell_type": "code",
   "execution_count": null,
   "metadata": {},
   "outputs": [],
   "source": []
  }
 ],
 "metadata": {
  "kernelspec": {
   "display_name": "Python 3",
   "language": "python",
   "name": "python3"
  },
  "language_info": {
   "codemirror_mode": {
    "name": "ipython",
    "version": 3
   },
   "file_extension": ".py",
   "mimetype": "text/x-python",
   "name": "python",
   "nbconvert_exporter": "python",
   "pygments_lexer": "ipython3",
   "version": "3.7.6"
  }
 },
 "nbformat": 4,
 "nbformat_minor": 4
}
